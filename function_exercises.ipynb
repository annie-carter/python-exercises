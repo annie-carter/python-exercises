{
 "cells": [
  {
   "cell_type": "markdown",
   "id": "742c12bf",
   "metadata": {},
   "source": [
    "### Functions\n",
    "\n",
    "1. Define a function named is_two. It should accept one input and return True if the passed input is either the number or the string 2, False otherwise."
   ]
  },
  {
   "cell_type": "code",
   "execution_count": 1,
   "id": "0f1dfe12",
   "metadata": {},
   "outputs": [],
   "source": [
    "def is_two(n):\n",
    "\n",
    "    if n == '2':\n",
    "        return True\n",
    "    if n == 2: \n",
    "        return True\n",
    "    else:\n",
    "        print(False)\n",
    "        "
   ]
  },
  {
   "cell_type": "code",
   "execution_count": 2,
   "id": "a4e31855",
   "metadata": {},
   "outputs": [
    {
     "name": "stdout",
     "output_type": "stream",
     "text": [
      "False\n"
     ]
    }
   ],
   "source": [
    "is_two(3) "
   ]
  },
  {
   "cell_type": "markdown",
   "id": "8c354d13",
   "metadata": {},
   "source": [
    "2. Define a function named is_vowel. It should return True if the passed string is a vowel, False otherwise."
   ]
  },
  {
   "cell_type": "code",
   "execution_count": 3,
   "id": "1738e870",
   "metadata": {},
   "outputs": [],
   "source": [
    "def is_vowel(letter):\n",
    "    if letter in ['a', 'e', 'i', 'o', 'u', 'A', 'E', 'I', 'O', 'U']:\n",
    "        print('This is a vowel')\n",
    "    else:\n",
    "        print('This is a not a vowel')\n",
    "    \n",
    "            "
   ]
  },
  {
   "cell_type": "code",
   "execution_count": 4,
   "id": "de8037f6",
   "metadata": {},
   "outputs": [
    {
     "name": "stdout",
     "output_type": "stream",
     "text": [
      "This is a vowel\n"
     ]
    }
   ],
   "source": [
    "is_vowel('a')"
   ]
  },
  {
   "cell_type": "markdown",
   "id": "b76b0acc",
   "metadata": {},
   "source": [
    "3. Define a function named is_consonant. It should return True if the passed string is a consonant, False otherwise. Use your is_vowel function to accomplish this."
   ]
  },
  {
   "cell_type": "code",
   "execution_count": 5,
   "id": "9dc21f68",
   "metadata": {},
   "outputs": [],
   "source": [
    "def is_consonant(letter):\n",
    "    if letter not in ['a', 'e', 'i', 'o', 'u', 'A', 'E', 'I', 'O', 'U']:\n",
    "        print('This is a consonant')\n",
    "    else:\n",
    "        print('This is not a consonant')"
   ]
  },
  {
   "cell_type": "code",
   "execution_count": 6,
   "id": "962ea98e",
   "metadata": {},
   "outputs": [
    {
     "name": "stdout",
     "output_type": "stream",
     "text": [
      "This is a consonant\n"
     ]
    }
   ],
   "source": [
    "is_consonant('x')"
   ]
  },
  {
   "cell_type": "markdown",
   "id": "94cf7a32",
   "metadata": {},
   "source": [
    "4. Define a function that accepts a string that is a word. The function should capitalize the first letter of the word if the word starts with a consonant."
   ]
  },
  {
   "cell_type": "code",
   "execution_count": 7,
   "id": "f820c58c",
   "metadata": {},
   "outputs": [],
   "source": [
    "#another way of doing this\n",
    "def cap_first_cons(string):\n",
    "    '''\n",
    "    This function takes in a string\n",
    "    and returns that string capitalized\n",
    "    if it starts with a consonent.\n",
    "    Otherwise, it returns the original string.\n",
    "    '''\n",
    "    #if the input string is a string datatype\n",
    "    if type(string) == str:\n",
    "        #look at the first letter in that string\n",
    "        if is_consonant(string[0]):\n",
    "            #and capitalize that letter\n",
    "            return string.capitalize()\n",
    "        else:\n",
    "            return string\n",
    "    else:\n",
    "        return string\n",
    "    "
   ]
  },
  {
   "cell_type": "code",
   "execution_count": 8,
   "id": "0ff44118",
   "metadata": {},
   "outputs": [
    {
     "ename": "SyntaxError",
     "evalue": "invalid syntax (65052209.py, line 1)",
     "output_type": "error",
     "traceback": [
      "\u001b[0;36m  Cell \u001b[0;32mIn[8], line 1\u001b[0;36m\u001b[0m\n\u001b[0;31m    def is_word('letter')\u001b[0m\n\u001b[0m                ^\u001b[0m\n\u001b[0;31mSyntaxError\u001b[0m\u001b[0;31m:\u001b[0m invalid syntax\n"
     ]
    }
   ],
   "source": [
    "def is_word('letter')"
   ]
  },
  {
   "cell_type": "code",
   "execution_count": null,
   "id": "fb7222cf",
   "metadata": {},
   "outputs": [],
   "source": []
  }
 ],
 "metadata": {
  "kernelspec": {
   "display_name": "Python 3 (ipykernel)",
   "language": "python",
   "name": "python3"
  },
  "language_info": {
   "codemirror_mode": {
    "name": "ipython",
    "version": 3
   },
   "file_extension": ".py",
   "mimetype": "text/x-python",
   "name": "python",
   "nbconvert_exporter": "python",
   "pygments_lexer": "ipython3",
   "version": "3.10.9"
  }
 },
 "nbformat": 4,
 "nbformat_minor": 5
}
