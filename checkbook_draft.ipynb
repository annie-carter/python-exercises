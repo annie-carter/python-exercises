{
 "cells": [
  {
   "cell_type": "markdown",
   "id": "8ca70eea",
   "metadata": {},
   "source": [
    "## Defined 4 functions of checkbook"
   ]
  },
  {
   "cell_type": "code",
   "execution_count": null,
   "id": "bccccf0b",
   "metadata": {},
   "outputs": [],
   "source": [
    "# The transactions effect a balance that is saved to a ledger file.\n",
    "# The user is able to view the balance appropriately\n",
    "def balance_option(acct_balance):\n",
    "    #ledger = open('ledger.txt')\n",
    "    #print(f'Your balance is $ {ledger.read()}')\n",
    "    #ledger_balance = ledger.read()\n",
    "    #ledger.close()\n",
    "    print(acct_balance)\n",
    "# def exit_option():\n"
   ]
  },
  {
   "cell_type": "code",
   "execution_count": null,
   "id": "c2bd3a0b",
   "metadata": {},
   "outputs": [],
   "source": [
    "# The crediting option of the application operates appropriately\n",
    "def credit_option(acct_balance):\n",
    "    credit_input = input('How much would you like to credit this account: $')\n",
    "    acct_balance = float(acct_balance) + float(credit_input)\n",
    "    print(f'Your new balance after credit is: $ {acct_balance}')\n",
    "    return acct_balance"
   ]
  },
  {
   "cell_type": "code",
   "execution_count": null,
   "id": "b794ef33",
   "metadata": {},
   "outputs": [],
   "source": [
    "# The debit option of the application operates appropriately\n",
    "def debit_option(acct_balance):\n",
    "    debit_input = input ('How much would you like to withdraw: $')\n",
    "    acct_balance = float(acct_balance) - float(debit_input)\n",
    "    print(f'Your new balance after debit is: $ {acct_balance}')\n",
    "    \n",
    "    return acct_balance\n",
    "                                          \n",
    "    "
   ]
  },
  {
   "cell_type": "code",
   "execution_count": null,
   "id": "8325ff14",
   "metadata": {},
   "outputs": [],
   "source": [
    "#The checkbook application can be closed appropriately\n",
    "\n",
    "def exit_option():\n",
    "    while True:\n",
    "        exit_input = input('Do you want to exit your checkbook? select y or n:')\n",
    "        if exit_input == 'y':\n",
    "            print(f'Thank you and Goodbye!{close_ledger}') \n",
    "            break\n",
    "        if exit_input =='n':\n",
    "            print('You will be returned to the main screen')\n",
    "            main()\n",
    "        else:\n",
    "            print('That is an invalid input. Please select y or n:')\n",
    "            continue"
   ]
  },
  {
   "cell_type": "code",
   "execution_count": 10,
   "id": "353f75d7",
   "metadata": {},
   "outputs": [
    {
     "name": "stdout",
     "output_type": "stream",
     "text": [
      "Would you like to make another transaction? select y or n: n\n",
      "Thank you and Goodbye!\n"
     ]
    }
   ],
   "source": [
    "# The application re-serves the menu after interface executions\n",
    "\n",
    "while True:\n",
    "    keep_going = input('Would you like to make another transaction? select y or n: ')\n",
    "    if keep_going == 'y':\n",
    "        main()\n",
    "    if keep_going == 'n':\n",
    "        print(f'Thank you and Goodbye!')\n",
    "        break\n",
    "    close('ledger.txt')\n",
    "    \n",
    "    \n",
    "    "
   ]
  },
  {
   "cell_type": "code",
   "execution_count": null,
   "id": "1b3efd3e",
   "metadata": {},
   "outputs": [],
   "source": [
    "#View Balance, Credit, Debit, and Exit\n",
    "# #1. Basic functionality\n",
    "# # application opens interface 4 opts. The transaction with balance saved file\n",
    "\n",
    "def main():\n",
    "    ledger = open('ledger.txt')\n",
    "    acct_balance = ledger.read()\n",
    "    print(acct_balance)\n",
    "\n",
    "    print( 'Welcome! Please select an option from the menu ?')\n",
    "    print('balance\\ncredit\\ndebit\\nexit\\n')\n",
    "\n",
    "\n",
    "\n",
    "    balance = 'View Balance'\n",
    "    credit = 'Credit'\n",
    "    debit = 'Debit '\n",
    "    exit_checkbook = 'Exit'\n",
    "\n",
    "    choice = input()\n",
    "\n",
    "    if choice == 'balance':\n",
    "        print( 'You selected balance')\n",
    "        balance_option(acct_balance)\n",
    "    elif choice == 'credit':\n",
    "        print('You selected credit')\n",
    "        credit_option(acct_balance)\n",
    "    elif choice == 'debit':\n",
    "        print('You selected debit')\n",
    "        debit_option(acct_balance)\n",
    "    elif choice == 'exit_checkbook':\n",
    "        print('You selected exit_checkbook')\n",
    "\n",
    "    \n"
   ]
  },
  {
   "cell_type": "code",
   "execution_count": null,
   "id": "cf775225",
   "metadata": {},
   "outputs": [],
   "source": [
    "ledger = open('ledger.txt')\n",
    "print(f'Your balance is $ {ledger.read()}')\n",
    "ledger.close()\n",
    "\n"
   ]
  },
  {
   "cell_type": "code",
   "execution_count": null,
   "id": "871ac611",
   "metadata": {},
   "outputs": [],
   "source": [
    "#The checkbook application can be closed appropriately\n",
    "\n",
    "with open('ledger.txt', 'w') as file:\n",
    "    print(file.write('5500'))"
   ]
  },
  {
   "cell_type": "code",
   "execution_count": null,
   "id": "dc7dcb5c",
   "metadata": {},
   "outputs": [],
   "source": [
    "\n"
   ]
  }
 ],
 "metadata": {
  "kernelspec": {
   "display_name": "Python 3 (ipykernel)",
   "language": "python",
   "name": "python3"
  },
  "language_info": {
   "codemirror_mode": {
    "name": "ipython",
    "version": 3
   },
   "file_extension": ".py",
   "mimetype": "text/x-python",
   "name": "python",
   "nbconvert_exporter": "python",
   "pygments_lexer": "ipython3",
   "version": "3.10.9"
  }
 },
 "nbformat": 4,
 "nbformat_minor": 5
}
