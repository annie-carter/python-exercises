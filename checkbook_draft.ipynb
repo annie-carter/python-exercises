{
 "cells": [
  {
   "cell_type": "markdown",
   "id": "07e8cbea",
   "metadata": {},
   "source": [
    "## Defined 4 functions of checkbook"
   ]
  },
  {
   "cell_type": "code",
   "execution_count": 1,
   "id": "75d5ead7",
   "metadata": {},
   "outputs": [],
   "source": [
    "# The application re-serves the menu after interface executions\n",
    "def keep_going():\n",
    "    keep_going = input('Would you like to make another transaction? select y or n: ')\n",
    "    if keep_going == 'y':\n",
    "        main()\n",
    "    if keep_going == 'n':\n",
    "        exit_option()\n",
    "        \n",
    "       \n",
    "    \n",
    "    \n",
    "    "
   ]
  },
  {
   "cell_type": "code",
   "execution_count": 2,
   "id": "35db91ac",
   "metadata": {},
   "outputs": [],
   "source": [
    "import json\n",
    "\n",
    "def close_ledger(acct_balance):\n",
    "     with open('ledger.txt', 'w') as nb:\n",
    "        json.dump(acct_balance, nb)\n",
    "        \n",
    "\n",
    "        \n",
    "#close_ledger(acct_balance)    \n"
   ]
  },
  {
   "cell_type": "code",
   "execution_count": 3,
   "id": "c5ab604e",
   "metadata": {},
   "outputs": [],
   "source": [
    "# The transactions effect a balance that is saved to a ledger file.\n",
    "# The user is able to view the balance appropriately\n",
    "def balance_option(acct_balance):\n",
    "    print(f'Your balance is $ {acct_balance}')\n",
    "    keep_going()\n",
    "   # print(acct_balance)\n",
    "\n"
   ]
  },
  {
   "cell_type": "code",
   "execution_count": 4,
   "id": "21595abc",
   "metadata": {},
   "outputs": [],
   "source": [
    "# The crediting option of the application operates appropriately\n",
    "def credit_option(acct_balance):\n",
    "    credit_input = input('How much would you like to credit this account: $')\n",
    "    acct_balance = float(acct_balance) + float(credit_input)\n",
    "    print(f'Your new balance after credit is: $ {acct_balance}')\n",
    "    close_ledger(acct_balance)\n",
    "    keep_going()\n",
    "    return acct_balance"
   ]
  },
  {
   "cell_type": "code",
   "execution_count": 5,
   "id": "81eca45a",
   "metadata": {},
   "outputs": [],
   "source": [
    "# The debit option of the application operates appropriately\n",
    "def debit_option(acct_balance):\n",
    "    debit_input = input ('How much would you like to withdraw: $')\n",
    "    acct_balance = float(acct_balance) - float(debit_input)\n",
    "    print(f'Your new balance after debit is: $ {acct_balance}')\n",
    "    close_ledger(acct_balance)\n",
    "    keep_going()\n",
    "    return acct_balance\n",
    "                                          \n",
    "    "
   ]
  },
  {
   "cell_type": "code",
   "execution_count": 6,
   "id": "8082cbf2",
   "metadata": {},
   "outputs": [],
   "source": [
    "#The checkbook application can be closed appropriately\n",
    "\n",
    "def exit_option():\n",
    "    exit_input = input('Are you sure you want to exit? select y or n:')\n",
    "    if exit_input == 'y':\n",
    "        print(f'Thank you and Goodbye!')\n",
    "    elif exit_input == 'n':\n",
    "        print('You will be returned to the main screen')\n",
    "        main()\n",
    "    else:\n",
    "        print('That is an invalid input. Please select y or n:')"
   ]
  },
  {
   "cell_type": "code",
   "execution_count": 16,
   "id": "5f5fcdc1",
   "metadata": {},
   "outputs": [],
   "source": [
    "#View Balance, Credit, Debit, and Exit\n",
    "# #1. Basic functionality\n",
    "# # application opens interface 4 opts. The transaction with balance saved file\n",
    "\n",
    "def main():\n",
    "    ledger = open('ledger.txt')\n",
    "    acct_balance = ledger.read()\n",
    "    \n",
    "    print('\\n\\nWelcome! Please select an option from the menu ?')\n",
    "    print('balance\\ncredit\\ndebit\\nexit\\n')\n",
    "\n",
    "\n",
    "\n",
    "    balance = 'Balance'\n",
    "    credit = 'Credit'\n",
    "    debit = 'Debit '\n",
    "    exit_checkbook = 'Exit'\n",
    "\n",
    "    choice = input()\n",
    "\n",
    "    if choice == 'balance':\n",
    "        print( 'You selected balance')\n",
    "        balance_option(acct_balance)\n",
    "    elif choice == 'credit':\n",
    "        print('You selected credit')\n",
    "        credit_option(acct_balance)\n",
    "    elif choice == 'debit':\n",
    "        print('You selected debit')\n",
    "        debit_option(acct_balance)\n",
    "    elif choice == 'exit':\n",
    "        print('You selected exit checkbook')\n",
    "        exit_option()\n",
    "    else:\n",
    "        print('That is an invalid input. Please select y or n:')\n",
    "    # close_ledger()\n"
   ]
  },
  {
   "cell_type": "markdown",
   "id": "75885549",
   "metadata": {},
   "source": []
  },
  {
   "cell_type": "code",
   "execution_count": 17,
   "id": "4b6e6634",
   "metadata": {},
   "outputs": [
    {
     "name": "stdout",
     "output_type": "stream",
     "text": [
      "\n",
      "\n",
      "Welcome! Please select an option from the menu ?\n",
      "balance\n",
      "credit\n",
      "debit\n",
      "exit\n",
      "\n",
      "balance\n",
      "You selected balance\n",
      "Your balance is $ 1124996.0\n",
      "Would you like to make another transaction? select y or n: y\n",
      "\n",
      "\n",
      "Welcome! Please select an option from the menu ?\n",
      "balance\n",
      "credit\n",
      "debit\n",
      "exit\n",
      "\n",
      "debit\n",
      "You selected debit\n",
      "How much would you like to withdraw: $1000000\n",
      "Your new balance after debit is: $ 124996.0\n",
      "Would you like to make another transaction? select y or n: y\n",
      "\n",
      "\n",
      "Welcome! Please select an option from the menu ?\n",
      "balance\n",
      "credit\n",
      "debit\n",
      "exit\n",
      "\n",
      "balance\n",
      "You selected balance\n",
      "Your balance is $ 124996.0\n",
      "Would you like to make another transaction? select y or n: n\n",
      "Are you sure you want to exit? select y or n:n\n",
      "You will be returned to the main screen\n",
      "\n",
      "\n",
      "Welcome! Please select an option from the menu ?\n",
      "balance\n",
      "credit\n",
      "debit\n",
      "exit\n",
      "\n",
      "exit\n",
      "You selected exit checkbook\n",
      "Are you sure you want to exit? select y or n:y\n",
      "Thank you and Goodbye!\n"
     ]
    }
   ],
   "source": [
    "main()"
   ]
  },
  {
   "cell_type": "code",
   "execution_count": 9,
   "id": "a8b8791d",
   "metadata": {},
   "outputs": [],
   "source": [
    "# ledger = open('ledger.txt')\n",
    "# print(f'Your balance is $ {ledger.read()}')\n",
    "# ledger.close()\n",
    "\n"
   ]
  },
  {
   "cell_type": "code",
   "execution_count": 10,
   "id": "c27c7435",
   "metadata": {},
   "outputs": [],
   "source": [
    "# #The checkbook application can be closed appropriately\n",
    "\n",
    "# with open('ledger.txt', 'w') as file:\n",
    "#     print(file.write('5500'))"
   ]
  }
 ],
 "metadata": {
  "kernelspec": {
   "display_name": "Python 3 (ipykernel)",
   "language": "python",
   "name": "python3"
  },
  "language_info": {
   "codemirror_mode": {
    "name": "ipython",
    "version": 3
   },
   "file_extension": ".py",
   "mimetype": "text/x-python",
   "name": "python",
   "nbconvert_exporter": "python",
   "pygments_lexer": "ipython3",
   "version": "3.10.9"
  }
 },
 "nbformat": 4,
 "nbformat_minor": 5
}
