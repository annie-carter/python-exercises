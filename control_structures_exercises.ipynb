{
 "cells": [
  {
   "cell_type": "markdown",
   "id": "9faa434d",
   "metadata": {},
   "source": [
    "### 1. Conditional Basics\n",
    "\n",
    "Prompt the user for a day of the week, print out whether the day is Monday or not\n",
    "\n",
    "Prompt the user for a day of the week, print out whether the day is a weekday or a weekend\n",
    "\n",
    "Calculate a weekly paycheck, accounting for overtime pay. Create variables and make up values for:\n",
    "\n",
    "The number of hours worked in one week\n",
    "The hourly rate\n",
    "For calculating pay:\n",
    "\n",
    "For working 40 hours or less, each hour is paid at the hourly rate\n",
    "For working more than 40 hours\n",
    "\n",
    "the first 40 hours are paid at the hourly rate\n",
    "\n",
    "each hour after 40 is paid at time and a half (hourly rate * 1.5)"
   ]
  },
  {
   "cell_type": "code",
   "execution_count": 1,
   "id": "b766ddad",
   "metadata": {},
   "outputs": [
    {
     "name": "stdout",
     "output_type": "stream",
     "text": [
      "Today is Monday!\n"
     ]
    }
   ],
   "source": [
    "#Prompt the user for a day of the week, print out whether the day is Monday or not\n",
    "day_of_the_week = 'Monday'\n",
    "\n",
    "if day_of_the_week == 'Monday':\n",
    "    print('Today is Monday!')\n",
    "else:\n",
    "    print('Today is NOT Monday.')\n",
    "\n",
    "# Print the result\n",
    "\n",
    "  "
   ]
  },
  {
   "cell_type": "code",
   "execution_count": 2,
   "id": "912b7488",
   "metadata": {},
   "outputs": [
    {
     "name": "stdout",
     "output_type": "stream",
     "text": [
      "Weekends Rock!!\n"
     ]
    }
   ],
   "source": [
    "\n",
    "#Prompt the user for a day of the week, print out whether the day is a weekday or a weekend\n",
    "day_of_the_week = 'Saturday'\n",
    "\n",
    "if day_of_the_week == 'Saturday' or day_of_the_week == 'Sunday':\n",
    "    print('Weekends Rock!!')\n",
    "else:\n",
    "    print('Weak-days stink')\n"
   ]
  },
  {
   "cell_type": "code",
   "execution_count": 3,
   "id": "6f03af5d",
   "metadata": {},
   "outputs": [
    {
     "name": "stdout",
     "output_type": "stream",
     "text": [
      "2750.0 is the weekly pay\n"
     ]
    }
   ],
   "source": [
    "# #Calculate a weekly paycheck, accounting for overtime pay. Create variables and make up values for:\n",
    "#For working 40 hours or less, each hour is paid at the hourly rate. For working more than 40 hours\n",
    "# Forty_or_less_hours for Forty_or_less_hours in range (40)  (if range (0-40)one_week_hours_of work =< 40 then * hourly_rate \n",
    "\n",
    "\n",
    "# #the first 40 hours are paid at the hourly rate. Each hour after 40 is paid at time and a half (hourly rate * 1.5)\n",
    "standard_pay = 50.00\n",
    "overtime_pay = standard_pay * 1.5\n",
    "h = 50\n",
    "\n",
    "if h <= 40:\n",
    "    weekly_paycheck = h * standard_pay\n",
    "    print (f'{weekly_paycheck} is the weekly pay') \n",
    "elif h > 40:\n",
    "    print \n",
    "    weekly_paycheck = (standard_pay * 40) + (h - 40) * overtime_pay\n",
    "    print (f'{weekly_paycheck} is the weekly pay') \n",
    "    "
   ]
  },
  {
   "cell_type": "markdown",
   "id": "a642a407",
   "metadata": {},
   "source": [
    "### 2. Loop Basics\n",
    "\n",
    "a. While\n",
    "\n",
    "     i. Create an integer variable i with a value of 5. Create a while loop that runs so long as i is less than or      equal to 15. Each loop iteration, output the current value of i, then increment i by one.\n",
    "     Your output should look like this:"
   ]
  },
  {
   "cell_type": "code",
   "execution_count": 4,
   "id": "889e68bb",
   "metadata": {},
   "outputs": [
    {
     "name": "stdout",
     "output_type": "stream",
     "text": [
      "5\n",
      "6\n",
      "7\n",
      "8\n",
      "9\n",
      "10\n",
      "11\n",
      "12\n",
      "13\n",
      "14\n",
      "15\n"
     ]
    }
   ],
   "source": [
    "i = 5\n",
    "while i <= 15:\n",
    "    print(i)\n",
    "    i += 1"
   ]
  },
  {
   "cell_type": "markdown",
   "id": "3ce05f0e",
   "metadata": {},
   "source": [
    "ii. Create a while loop that will count by 2's starting with 0 and ending at 100. Follow each number with a new line."
   ]
  },
  {
   "cell_type": "code",
   "execution_count": 5,
   "id": "21d95fe0",
   "metadata": {},
   "outputs": [
    {
     "name": "stdout",
     "output_type": "stream",
     "text": [
      "0\n",
      "2\n",
      "4\n",
      "6\n",
      "8\n",
      "10\n",
      "12\n",
      "14\n",
      "16\n",
      "18\n",
      "20\n",
      "22\n",
      "24\n",
      "26\n",
      "28\n",
      "30\n",
      "32\n",
      "34\n",
      "36\n",
      "38\n",
      "40\n",
      "42\n",
      "44\n",
      "46\n",
      "48\n",
      "50\n",
      "52\n",
      "54\n",
      "56\n",
      "58\n",
      "60\n",
      "62\n",
      "64\n",
      "66\n",
      "68\n",
      "70\n",
      "72\n",
      "74\n",
      "76\n",
      "78\n",
      "80\n",
      "82\n",
      "84\n",
      "86\n",
      "88\n",
      "90\n",
      "92\n",
      "94\n",
      "96\n",
      "98\n",
      "100\n"
     ]
    }
   ],
   "source": [
    "i = 0\n",
    "while i <= 100:\n",
    "    print(i)\n",
    "    i += 2"
   ]
  },
  {
   "cell_type": "markdown",
   "id": "a4e05cbc",
   "metadata": {},
   "source": [
    "ii. Create a while loop that starts at 2, and displays the number squared on each line while the number is less than 1,000,000. Output should equal:"
   ]
  },
  {
   "cell_type": "code",
   "execution_count": 6,
   "id": "5cfcbc97",
   "metadata": {},
   "outputs": [
    {
     "name": "stdout",
     "output_type": "stream",
     "text": [
      "2\n",
      "4\n",
      "16\n",
      "256\n",
      "65536\n"
     ]
    }
   ],
   "source": [
    "i = 2\n",
    "while i <= 1000000:\n",
    "    print(i)\n",
    "    i *= i"
   ]
  },
  {
   "cell_type": "markdown",
   "id": "338de562",
   "metadata": {},
   "source": [
    "iii. Write a while loop that uses print to create the output shown below."
   ]
  },
  {
   "cell_type": "code",
   "execution_count": 7,
   "id": "023dd12b",
   "metadata": {},
   "outputs": [
    {
     "name": "stdout",
     "output_type": "stream",
     "text": [
      "100\n",
      "95\n",
      "90\n",
      "85\n",
      "80\n",
      "75\n",
      "70\n",
      "65\n",
      "60\n",
      "55\n",
      "50\n",
      "45\n",
      "40\n",
      "35\n",
      "30\n",
      "25\n",
      "20\n",
      "15\n",
      "10\n",
      "5\n"
     ]
    }
   ],
   "source": [
    "i = 100\n",
    "while i <= 100 and i >= 5:\n",
    "    print(i)\n",
    "    i -= 5"
   ]
  },
  {
   "cell_type": "markdown",
   "id": "01c74317",
   "metadata": {},
   "source": [
    "###For Loops\n",
    "    i. Write some code using a for loop that prompts the user for a number, then shows a multiplication table up through 10 for that number.\n",
    "\n",
    "For example, if the user enters 7, your program should output:"
   ]
  },
  {
   "cell_type": "code",
   "execution_count": 12,
   "id": "1d24b294",
   "metadata": {
    "scrolled": true
   },
   "outputs": [
    {
     "name": "stdout",
     "output_type": "stream",
     "text": [
      "Please input positive number:7\n",
      "7 x 1 = 7\n",
      "7 x 2 = 14\n",
      "7 x 3 = 21\n",
      "7 x 4 = 28\n",
      "7 x 5 = 35\n",
      "7 x 6 = 42\n",
      "7 x 7 = 49\n",
      "7 x 8 = 56\n",
      "7 x 9 = 63\n",
      "7 x 10 = 70\n"
     ]
    }
   ],
   "source": [
    "numbers = int(input('Please input positive number:'))\n",
    "for number in range (1, 11):\n",
    "    sum = numbers * number\n",
    "    print(f'{numbers} x {number} = {sum}')\n",
    "        \n"
   ]
  },
  {
   "cell_type": "markdown",
   "id": "49c77911",
   "metadata": {},
   "source": [
    "ii. Create a for loop that uses print to create the output shown below."
   ]
  },
  {
   "cell_type": "code",
   "execution_count": 9,
   "id": "9b17a948",
   "metadata": {
    "scrolled": true
   },
   "outputs": [
    {
     "name": "stdout",
     "output_type": "stream",
     "text": [
      "1\n",
      "22\n",
      "333\n",
      "4444\n",
      "55555\n",
      "666666\n",
      "7777777\n",
      "88888888\n",
      "999999999\n"
     ]
    }
   ],
   "source": [
    "# -- number = 1 not needed -- \n",
    "for numbers in range (1, 10):\n",
    "    print(f\"{str(numbers) * numbers}\")\n"
   ]
  },
  {
   "cell_type": "markdown",
   "id": "2ccdfb82",
   "metadata": {},
   "source": [
    "### Break and Continue\n",
    "\n",
    "i. Write a program that prompts the user for a positive integer. Next write a loop that prints out the numbers from the number the user entered down to 1."
   ]
  },
  {
   "cell_type": "code",
   "execution_count": 13,
   "id": "753b046b",
   "metadata": {},
   "outputs": [
    {
     "name": "stdout",
     "output_type": "stream",
     "text": [
      "Please input positive integer:9\n",
      "9\n",
      "8\n",
      "7\n",
      "6\n",
      "5\n",
      "4\n",
      "3\n",
      "2\n",
      "1\n"
     ]
    }
   ],
   "source": [
    "pos_int = int(input('Please input positive integer:'))\n",
    "while pos_int >= 1:\n",
    "    print(pos_int)\n",
    "    pos_int -= 1\n",
    "    \n",
    "    \n",
    "    #print(f\"{pos_int} - 1\n",
    " #   if n < 1"
   ]
  },
  {
   "cell_type": "markdown",
   "id": "42f072e6",
   "metadata": {},
   "source": [
    "ii. The input function can be used to prompt for input and use that input in your python code. Prompt the user to enter a positive number and write a loop that counts from 0 to that number. (Hints: note that the input function returns a string, so you'll need to convert this to a numeric type.)"
   ]
  },
  {
   "cell_type": "code",
   "execution_count": 24,
   "id": "c4d356f2",
   "metadata": {},
   "outputs": [
    {
     "name": "stdout",
     "output_type": "stream",
     "text": [
      "Please input positive:9\n",
      "0\n",
      "1\n",
      "2\n",
      "3\n",
      "4\n",
      "5\n",
      "6\n",
      "7\n",
      "8\n",
      "9\n",
      "10\n",
      "11\n"
     ]
    }
   ],
   "source": [
    "pos_int = int(input('Please input positive:'))\n",
    "for pos_int in range (100):\n",
    "# while pos_int >= 0: -- not need )\n",
    "    print(pos_int)\n",
    "    if pos_int > 10:\n",
    "        break\n",
    "    "
   ]
  },
  {
   "cell_type": "markdown",
   "id": "c50a076e",
   "metadata": {},
   "source": [
    "iii. Prompt the user for an odd number between 1 and 50. Use a loop and a break statement to continue prompting the user if they enter invalid input. (Hint: use the isdigit method on strings to determine this). Use a loop and the continue statement to output all the odd numbers between 1 and 50, except for the number the user entered.\n",
    "\n"
   ]
  },
  {
   "cell_type": "code",
   "execution_count": 75,
   "id": "6688de8e",
   "metadata": {},
   "outputs": [
    {
     "name": "stdout",
     "output_type": "stream",
     "text": [
      "Number to skip is: 27\n",
      "Here is an odd number 1\n",
      "Here is an odd number 3\n",
      "Here is an odd number 5\n",
      "Here is an odd number 7\n",
      "Here is an odd number 9\n",
      "Here is an odd number 11\n",
      "Here is an odd number 13\n",
      "Here is an odd number 15\n",
      "Here is an odd number 17\n",
      "Here is an odd number 19\n",
      "Here is an odd number 21\n",
      "Here is an odd number 23\n",
      "Here is an odd number 25\n",
      "YIkes! Skipping number: 27\n",
      "Here is an odd number 29\n",
      "Here is an odd number 31\n",
      "Here is an odd number 33\n",
      "Here is an odd number 35\n",
      "Here is an odd number 37\n",
      "Here is an odd number 39\n",
      "Here is an odd number 41\n",
      "Here is an odd number 43\n",
      "Here is an odd number 45\n",
      "Here is an odd number 47\n",
      "Here is an odd number 49\n"
     ]
    }
   ],
   "source": [
    "while True:\n",
    "    odd_number = input('Number to skip is: ')\n",
    "    if int(odd_number) > 1 and int(odd_number) < 50 and odd_number.isdigit() and int(odd_number) % 2 == 1:\n",
    "        break\n",
    "        \n",
    "for num in range (50):\n",
    "    if num == int(odd_number):\n",
    "        print(f'YIkes! Skipping number: {odd_number}')\n",
    "        continue\n",
    "    if num % 2 == 1:\n",
    "        print('Here is an odd number', num)\n",
    "    "
   ]
  },
  {
   "cell_type": "code",
   "execution_count": null,
   "id": "3ae7cbc9",
   "metadata": {},
   "outputs": [],
   "source": []
  }
 ],
 "metadata": {
  "kernelspec": {
   "display_name": "Python 3 (ipykernel)",
   "language": "python",
   "name": "python3"
  },
  "language_info": {
   "codemirror_mode": {
    "name": "ipython",
    "version": 3
   },
   "file_extension": ".py",
   "mimetype": "text/x-python",
   "name": "python",
   "nbconvert_exporter": "python",
   "pygments_lexer": "ipython3",
   "version": "3.10.9"
  }
 },
 "nbformat": 4,
 "nbformat_minor": 5
}
