{
 "cells": [
  {
   "cell_type": "markdown",
   "id": "9faa434d",
   "metadata": {},
   "source": [
    "### 1. Conditional Basics\n",
    "\n",
    "Prompt the user for a day of the week, print out whether the day is Monday or not\n",
    "\n",
    "Prompt the user for a day of the week, print out whether the day is a weekday or a weekend\n",
    "\n",
    "Calculate a weekly paycheck, accounting for overtime pay. Create variables and make up values for:\n",
    "\n",
    "The number of hours worked in one week\n",
    "The hourly rate\n",
    "For calculating pay:\n",
    "\n",
    "For working 40 hours or less, each hour is paid at the hourly rate\n",
    "For working more than 40 hours\n",
    "\n",
    "the first 40 hours are paid at the hourly rate\n",
    "\n",
    "each hour after 40 is paid at time and a half (hourly rate * 1.5)"
   ]
  },
  {
   "cell_type": "code",
   "execution_count": 1,
   "id": "b766ddad",
   "metadata": {},
   "outputs": [
    {
     "name": "stdout",
     "output_type": "stream",
     "text": [
      "Today is Monday!\n"
     ]
    }
   ],
   "source": [
    "#Prompt the user for a day of the week, print out whether the day is Monday or not\n",
    "day_of_the_week = 'Monday'\n",
    "\n",
    "if day_of_the_week == 'Monday':\n",
    "    print('Today is Monday!')\n",
    "else:\n",
    "    print('Today is NOT Monday.')\n",
    "\n",
    "# Print the result\n",
    "\n",
    "  "
   ]
  },
  {
   "cell_type": "code",
   "execution_count": 2,
   "id": "a78e00b8",
   "metadata": {},
   "outputs": [
    {
     "name": "stdout",
     "output_type": "stream",
     "text": [
      "Weekends Rock!!\n"
     ]
    }
   ],
   "source": [
    "\n",
    "#Prompt the user for a day of the week, print out whether the day is a weekday or a weekend\n",
    "day_of_the_week = 'Saturday'\n",
    "\n",
    "if day_of_the_week == 'Saturday' or day_of_the_week == 'Sunday':\n",
    "    print('Weekends Rock!!')\n",
    "else:\n",
    "    print('Weak-days stink')\n"
   ]
  },
  {
   "cell_type": "code",
   "execution_count": 3,
   "id": "040312f1",
   "metadata": {},
   "outputs": [
    {
     "name": "stdout",
     "output_type": "stream",
     "text": [
      "2750.0 is the weekly pay\n"
     ]
    }
   ],
   "source": [
    "# #Calculate a weekly paycheck, accounting for overtime pay. Create variables and make up values for:\n",
    "#For working 40 hours or less, each hour is paid at the hourly rate. For working more than 40 hours\n",
    "# Forty_or_less_hours for Forty_or_less_hours in range (40)  (if range (0-40)one_week_hours_of work =< 40 then * hourly_rate \n",
    "\n",
    "\n",
    "# #the first 40 hours are paid at the hourly rate. Each hour after 40 is paid at time and a half (hourly rate * 1.5)\n",
    "standard_pay = 50.00\n",
    "overtime_pay = standard_pay * 1.5\n",
    "h = 50\n",
    "\n",
    "if h <= 40:\n",
    "    weekly_paycheck = h * standard_pay\n",
    "    print (f'{weekly_paycheck} is the weekly pay') \n",
    "elif h > 40:\n",
    "    print \n",
    "    weekly_paycheck = (standard_pay * 40) + (h - 40) * overtime_pay\n",
    "    print (f'{weekly_paycheck} is the weekly pay') \n",
    "    "
   ]
  },
  {
   "cell_type": "markdown",
   "id": "779a26a6",
   "metadata": {},
   "source": [
    "### 2. Loop Basics\n",
    "\n",
    "a. While\n",
    "\n",
    "     i. Create an integer variable i with a value of 5. Create a while loop that runs so long as i is less than or      equal to 15. Each loop iteration, output the current value of i, then increment i by one.\n",
    "     Your output should look like this:"
   ]
  },
  {
   "cell_type": "code",
   "execution_count": 4,
   "id": "cf1983a6",
   "metadata": {},
   "outputs": [
    {
     "name": "stdout",
     "output_type": "stream",
     "text": [
      "5\n",
      "6\n",
      "7\n",
      "8\n",
      "9\n",
      "10\n",
      "11\n",
      "12\n",
      "13\n",
      "14\n",
      "15\n"
     ]
    }
   ],
   "source": [
    "i = 5\n",
    "while i <= 15:\n",
    "    print(i)\n",
    "    i += 1"
   ]
  },
  {
   "cell_type": "markdown",
   "id": "1da1100d",
   "metadata": {},
   "source": [
    "ii. Create a while loop that will count by 2's starting with 0 and ending at 100. Follow each number with a new line."
   ]
  },
  {
   "cell_type": "code",
   "execution_count": 5,
   "id": "45bba729",
   "metadata": {},
   "outputs": [
    {
     "name": "stdout",
     "output_type": "stream",
     "text": [
      "0\n",
      "2\n",
      "4\n",
      "6\n",
      "8\n",
      "10\n",
      "12\n",
      "14\n",
      "16\n",
      "18\n",
      "20\n",
      "22\n",
      "24\n",
      "26\n",
      "28\n",
      "30\n",
      "32\n",
      "34\n",
      "36\n",
      "38\n",
      "40\n",
      "42\n",
      "44\n",
      "46\n",
      "48\n",
      "50\n",
      "52\n",
      "54\n",
      "56\n",
      "58\n",
      "60\n",
      "62\n",
      "64\n",
      "66\n",
      "68\n",
      "70\n",
      "72\n",
      "74\n",
      "76\n",
      "78\n",
      "80\n",
      "82\n",
      "84\n",
      "86\n",
      "88\n",
      "90\n",
      "92\n",
      "94\n",
      "96\n",
      "98\n",
      "100\n"
     ]
    }
   ],
   "source": [
    "i = 0\n",
    "while i <= 100:\n",
    "    print(i)\n",
    "    i += 2"
   ]
  },
  {
   "cell_type": "markdown",
   "id": "54a802f9",
   "metadata": {},
   "source": [
    "ii. Create a while loop that starts at 2, and displays the number squared on each line while the number is less than 1,000,000. Output should equal:"
   ]
  },
  {
   "cell_type": "code",
   "execution_count": 6,
   "id": "d3ccf08d",
   "metadata": {},
   "outputs": [
    {
     "name": "stdout",
     "output_type": "stream",
     "text": [
      "2\n",
      "4\n",
      "16\n",
      "256\n",
      "65536\n"
     ]
    }
   ],
   "source": [
    "i = 2\n",
    "while i <= 1000000:\n",
    "    print(i)\n",
    "    i *= i"
   ]
  },
  {
   "cell_type": "markdown",
   "id": "bd4ab9bc",
   "metadata": {},
   "source": [
    "iii. Write a while loop that uses print to create the output shown below."
   ]
  },
  {
   "cell_type": "code",
   "execution_count": 7,
   "id": "bd0356a7",
   "metadata": {},
   "outputs": [
    {
     "name": "stdout",
     "output_type": "stream",
     "text": [
      "100\n",
      "95\n",
      "90\n",
      "85\n",
      "80\n",
      "75\n",
      "70\n",
      "65\n",
      "60\n",
      "55\n",
      "50\n",
      "45\n",
      "40\n",
      "35\n",
      "30\n",
      "25\n",
      "20\n",
      "15\n",
      "10\n",
      "5\n"
     ]
    }
   ],
   "source": [
    "i = 100\n",
    "while i <= 100 and i >= 5:\n",
    "    print(i)\n",
    "    i -= 5"
   ]
  },
  {
   "cell_type": "markdown",
   "id": "4462aba1",
   "metadata": {},
   "source": [
    "###For Loops\n",
    "    i. Write some code using a for loop that prompts the user for a number, then shows a multiplication table up through 10 for that number.\n",
    "\n",
    "For example, if the user enters 7, your program should output:"
   ]
  },
  {
   "cell_type": "code",
   "execution_count": 12,
   "id": "101fbf59",
   "metadata": {
    "scrolled": true
   },
   "outputs": [
    {
     "name": "stdout",
     "output_type": "stream",
     "text": [
      "Please input positive number:7\n",
      "7 x 1 = 7\n",
      "7 x 2 = 14\n",
      "7 x 3 = 21\n",
      "7 x 4 = 28\n",
      "7 x 5 = 35\n",
      "7 x 6 = 42\n",
      "7 x 7 = 49\n",
      "7 x 8 = 56\n",
      "7 x 9 = 63\n",
      "7 x 10 = 70\n"
     ]
    }
   ],
   "source": [
    "numbers = int(input('Please input positive number:'))\n",
    "for number in range (1, 11):\n",
    "    sum = numbers * number\n",
    "    print(f'{numbers} x {number} = {sum}')\n",
    "        \n"
   ]
  },
  {
   "cell_type": "markdown",
   "id": "9abb1ffb",
   "metadata": {},
   "source": [
    "ii. Create a for loop that uses print to create the output shown below."
   ]
  },
  {
   "cell_type": "code",
   "execution_count": 9,
   "id": "877753e5",
   "metadata": {
    "scrolled": true
   },
   "outputs": [
    {
     "name": "stdout",
     "output_type": "stream",
     "text": [
      "1\n",
      "22\n",
      "333\n",
      "4444\n",
      "55555\n",
      "666666\n",
      "7777777\n",
      "88888888\n",
      "999999999\n"
     ]
    }
   ],
   "source": [
    "# -- number = 1 not needed -- \n",
    "for numbers in range (1, 10):\n",
    "    print(f\"{str(numbers) * numbers}\")\n"
   ]
  },
  {
   "cell_type": "markdown",
   "id": "2299d08c",
   "metadata": {},
   "source": [
    "### Break and Continue\n",
    "\n",
    "i. Write a program that prompts the user for a positive integer. Next write a loop that prints out the numbers from the number the user entered down to 1."
   ]
  },
  {
   "cell_type": "code",
   "execution_count": 13,
   "id": "6d8bf3e4",
   "metadata": {},
   "outputs": [
    {
     "name": "stdout",
     "output_type": "stream",
     "text": [
      "Please input positive integer:9\n",
      "9\n",
      "8\n",
      "7\n",
      "6\n",
      "5\n",
      "4\n",
      "3\n",
      "2\n",
      "1\n"
     ]
    }
   ],
   "source": [
    "pos_int = int(input('Please input positive integer:'))\n",
    "while pos_int >= 1:\n",
    "    print(pos_int)\n",
    "    pos_int -= 1\n",
    "    \n",
    "    \n",
    "    #print(f\"{pos_int} - 1\n",
    " #   if n < 1"
   ]
  },
  {
   "cell_type": "markdown",
   "id": "2e722d1a",
   "metadata": {},
   "source": [
    "ii. The input function can be used to prompt for input and use that input in your python code. Prompt the user to enter a positive number and write a loop that counts from 0 to that number. (Hints: note that the input function returns a string, so you'll need to convert this to a numeric type.)"
   ]
  },
  {
   "cell_type": "code",
   "execution_count": 24,
   "id": "b2bee4e3",
   "metadata": {},
   "outputs": [
    {
     "name": "stdout",
     "output_type": "stream",
     "text": [
      "Please input positive:9\n",
      "0\n",
      "1\n",
      "2\n",
      "3\n",
      "4\n",
      "5\n",
      "6\n",
      "7\n",
      "8\n",
      "9\n",
      "10\n",
      "11\n"
     ]
    }
   ],
   "source": [
    "pos_int = int(input('Please input positive:'))\n",
    "for pos_int in range (100):\n",
    "# while pos_int >= 0: -- not need )\n",
    "    print(pos_int)\n",
    "    if pos_int > 10:\n",
    "        break\n",
    "    "
   ]
  },
  {
   "cell_type": "markdown",
   "id": "9d7b12e2",
   "metadata": {},
   "source": [
    "iii. Prompt the user for an odd number between 1 and 50. Use a loop and a break statement to continue prompting the user if they enter invalid input. (Hint: use the isdigit method on strings to determine this). Use a loop and the continue statement to output all the odd numbers between 1 and 50, except for the number the user entered.\n",
    "\n"
   ]
  },
  {
   "cell_type": "code",
   "execution_count": 75,
   "id": "fda94f3f",
   "metadata": {},
   "outputs": [
    {
     "name": "stdout",
     "output_type": "stream",
     "text": [
      "Number to skip is: 27\n",
      "Here is an odd number 1\n",
      "Here is an odd number 3\n",
      "Here is an odd number 5\n",
      "Here is an odd number 7\n",
      "Here is an odd number 9\n",
      "Here is an odd number 11\n",
      "Here is an odd number 13\n",
      "Here is an odd number 15\n",
      "Here is an odd number 17\n",
      "Here is an odd number 19\n",
      "Here is an odd number 21\n",
      "Here is an odd number 23\n",
      "Here is an odd number 25\n",
      "YIkes! Skipping number: 27\n",
      "Here is an odd number 29\n",
      "Here is an odd number 31\n",
      "Here is an odd number 33\n",
      "Here is an odd number 35\n",
      "Here is an odd number 37\n",
      "Here is an odd number 39\n",
      "Here is an odd number 41\n",
      "Here is an odd number 43\n",
      "Here is an odd number 45\n",
      "Here is an odd number 47\n",
      "Here is an odd number 49\n"
     ]
    }
   ],
   "source": [
    "while True:\n",
    "    odd_number = input('Number to skip is: ')\n",
    "    if int(odd_number) > 1 and int(odd_number) < 50 and odd_number.isdigit() and int(odd_number) % 2 == 1:\n",
    "        break\n",
    "        \n",
    "for num in range (50):\n",
    "    if num == int(odd_number):\n",
    "        print(f'YIkes! Skipping number: {odd_number}')\n",
    "        continue\n",
    "    if num % 2 == 1:\n",
    "        print('Here is an odd number', num)\n",
    "    "
   ]
  },
  {
   "cell_type": "markdown",
   "id": "03a8c242",
   "metadata": {},
   "source": [
    "### 3. Fizzbuzz\n",
    "\n",
    "One of the most common interview questions for entry-level programmers is the FizzBuzz test. Developed by Imran Ghory, the test is designed to test basic looping and conditional logic skills.\n",
    "\n",
    "Write a program that prints the numbers from 1 to 100.\n",
    "For multiples of three print \"Fizz\" instead of the number\n",
    "For the multiples of five print \"Buzz\".\n",
    "For numbers which are multiples of both three and five print \"FizzBuzz\"."
   ]
  },
  {
   "cell_type": "code",
   "execution_count": 92,
   "id": "bcf5c348",
   "metadata": {},
   "outputs": [
    {
     "name": "stdout",
     "output_type": "stream",
     "text": [
      "1\n",
      "2\n",
      "3 Buzz\n",
      "4\n",
      "5 Fizz\n",
      "6 Buzz\n",
      "7\n",
      "8\n",
      "9 Buzz\n",
      "10 Fizz\n",
      "11\n",
      "12 Buzz\n",
      "13\n",
      "14\n",
      "15 FizzBuzz\n",
      "16\n",
      "17\n",
      "18 Buzz\n",
      "19\n",
      "20 Fizz\n",
      "21 Buzz\n",
      "22\n",
      "23\n",
      "24 Buzz\n",
      "25 Fizz\n",
      "26\n",
      "27 Buzz\n",
      "28\n",
      "29\n",
      "30 FizzBuzz\n",
      "31\n",
      "32\n",
      "33 Buzz\n",
      "34\n",
      "35 Fizz\n",
      "36 Buzz\n",
      "37\n",
      "38\n",
      "39 Buzz\n",
      "40 Fizz\n",
      "41\n",
      "42 Buzz\n",
      "43\n",
      "44\n",
      "45 FizzBuzz\n",
      "46\n",
      "47\n",
      "48 Buzz\n",
      "49\n",
      "50 Fizz\n",
      "51 Buzz\n",
      "52\n",
      "53\n",
      "54 Buzz\n",
      "55 Fizz\n",
      "56\n",
      "57 Buzz\n",
      "58\n",
      "59\n",
      "60 FizzBuzz\n",
      "61\n",
      "62\n",
      "63 Buzz\n",
      "64\n",
      "65 Fizz\n",
      "66 Buzz\n",
      "67\n",
      "68\n",
      "69 Buzz\n",
      "70 Fizz\n",
      "71\n",
      "72 Buzz\n",
      "73\n",
      "74\n",
      "75 FizzBuzz\n",
      "76\n",
      "77\n",
      "78 Buzz\n",
      "79\n",
      "80 Fizz\n",
      "81 Buzz\n",
      "82\n",
      "83\n",
      "84 Buzz\n",
      "85 Fizz\n",
      "86\n",
      "87 Buzz\n",
      "88\n",
      "89\n",
      "90 FizzBuzz\n",
      "91\n",
      "92\n",
      "93 Buzz\n",
      "94\n",
      "95 Fizz\n",
      "96 Buzz\n",
      "97\n",
      "98\n",
      "99 Buzz\n",
      "100 Fizz\n"
     ]
    }
   ],
   "source": [
    "# numbers = int(input('Please input number:'))\n",
    "for number in range(1, 101):\n",
    "    if number % 3 == 0 and  number % 5 == 0:\n",
    "        print(f'{number} FizzBuzz')\n",
    "    elif number % 5 == 0:\n",
    "         print(f'{number} Fizz')\n",
    "    elif  number % 3 == 0:\n",
    "        print (f'{number} Buzz')\n",
    "    else: \n",
    "        print(number)\n",
    "    "
   ]
  },
  {
   "cell_type": "markdown",
   "id": "16751d5d",
   "metadata": {},
   "source": [
    "4. Display a table of powers.\n",
    "\n",
    "* Prompt the user to enter an integer\n",
    "* Display a table of squares and cubes from 1 to the value entered\n",
    "* Ask if the user wants to continue\n",
    "* Assume that the user will enter valid data\n",
    "* Only continue if the user agrees to"
   ]
  },
  {
   "cell_type": "code",
   "execution_count": 121,
   "id": "4a03c3fe",
   "metadata": {},
   "outputs": [],
   "source": [
    "# Prompt the user to enter an integer\n",
    "# user_number = int(input('Pick a number: '))\n",
    "#keep_going = input('Do you want to continue?')\n",
    "#if keep_going:\n",
    "# display_table()\n",
    "# Display a table of squares and cubes from 1 to the value entered\n",
    "\n",
    "def display_table():\n",
    "    user_number = int(input('Pick a number: '))\n",
    "\n",
    "    \n",
    "    print('number | squared | cubed')\n",
    "    print('------ | ------- | ------')\n",
    "    \n",
    "    for i in range(1, user_number+1):\n",
    "        print(f'{i}  |  {i * i} | {i * i * i} ')\n",
    "    \n",
    "    keep_going = input('Do you want to continue?')\n",
    "\n",
    "    if keep_going:\n",
    "        display_table()\n"
   ]
  },
  {
   "cell_type": "code",
   "execution_count": 124,
   "id": "955fcf44",
   "metadata": {},
   "outputs": [
    {
     "name": "stdout",
     "output_type": "stream",
     "text": [
      "Pick a number: 4\n",
      "number | squared | cubed\n",
      "------ | ------- | ------\n",
      "1  |  1 | 1 \n",
      "2  |  4 | 8 \n",
      "3  |  9 | 27 \n",
      "4  |  16 | 64 \n",
      "Do you want to continue?\n"
     ]
    }
   ],
   "source": [
    "display_table()"
   ]
  },
  {
   "cell_type": "markdown",
   "id": "9c324e81",
   "metadata": {},
   "source": [
    "Convert given number grades into letter grades.\n",
    "\n",
    "Prompt the user for a numerical grade from 0 to 100\n",
    "Display the corresponding letter grade\n",
    "Prompt the user to continue\n",
    "Assume that the user will enter valid integers for the grades\n",
    "The application should only continue if the user agrees to\n",
    "Grade Ranges:\n",
    "\n",
    "* A : 100 - 88\n",
    "* B : 87 - 80\n",
    "* C : 79 - 67\n",
    "* D : 66 - 60\n",
    "* F : 59 - 0"
   ]
  },
  {
   "cell_type": "code",
   "execution_count": 133,
   "id": "caba9422",
   "metadata": {},
   "outputs": [],
   "source": [
    "gradebook = {\n",
    "  '100 - 88': 'A',\n",
    "  '87-80': 'B',\n",
    "  '79-67': 'C',\n",
    "  '66-60': 'D',\n",
    "  '59-0': 'F'\n",
    "}\n",
    "\n",
    "def get_grade():\n",
    "    grade = int(input('What is your grade?'))\n",
    "\n",
    "    for k, v in gradebook.items():\n",
    "        rang = k.split('-')\n",
    "        if grade > int(rang[1]) and grade < int(rang[0]):\n",
    "            return v\n",
    "    keep_going = input('Do you want to continue?')\n",
    "# Prompt the user to continue\n",
    "    if keep_going:\n",
    "        get_grade()\n",
    "\n",
    "# Assume that the user will enter valid integers for the grades\n",
    "# The application should only continue if the user agrees to"
   ]
  },
  {
   "cell_type": "code",
   "execution_count": 135,
   "id": "03c25f52",
   "metadata": {},
   "outputs": [
    {
     "name": "stdout",
     "output_type": "stream",
     "text": [
      "What is your grade?45\n"
     ]
    },
    {
     "data": {
      "text/plain": [
       "'F'"
      ]
     },
     "execution_count": 135,
     "metadata": {},
     "output_type": "execute_result"
    }
   ],
   "source": [
    "get_grade()"
   ]
  }
 ],
 "metadata": {
  "kernelspec": {
   "display_name": "Python 3 (ipykernel)",
   "language": "python",
   "name": "python3"
  },
  "language_info": {
   "codemirror_mode": {
    "name": "ipython",
    "version": 3
   },
   "file_extension": ".py",
   "mimetype": "text/x-python",
   "name": "python",
   "nbconvert_exporter": "python",
   "pygments_lexer": "ipython3",
   "version": "3.10.9"
  }
 },
 "nbformat": 4,
 "nbformat_minor": 5
}
