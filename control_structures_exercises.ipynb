{
 "cells": [
  {
   "cell_type": "markdown",
   "id": "9faa434d",
   "metadata": {},
   "source": [
    "\n",
    "### 1. Conditional Basics\n",
    "\n",
    "Prompt the user for a day of the week, print out whether the day is Monday or not\n",
    "\n",
    "Prompt the user for a day of the week, print out whether the day is a weekday or a weekend\n",
    "\n",
    "Calculate a weekly paycheck, accounting for overtime pay. Create variables and make up values for:\n",
    "\n",
    "The number of hours worked in one week\n",
    "The hourly rate\n",
    "For calculating pay:\n",
    "\n",
    "For working 40 hours or less, each hour is paid at the hourly rate\n",
    "For working more than 40 hours\n",
    "\n",
    "the first 40 hours are paid at the hourly rate\n",
    "\n",
    "each hour after 40 is paid at time and a half (hourly rate * 1.5)"
   ]
  },
  {
   "cell_type": "code",
   "execution_count": 148,
   "id": "b766ddad",
   "metadata": {},
   "outputs": [
    {
     "name": "stdout",
     "output_type": "stream",
     "text": [
      "Enter  a day of the week:monday\n",
      "Today is Monday!\n"
     ]
    }
   ],
   "source": [
    "#Prompt the user for a day of the week, print out whether the day is Monday or not\n",
    "day_of_the_week = input(\"Enter  a day of the week:\")\n",
    "\n",
    "#day_of_the_week = 'Monday'\n",
    "\n",
    "if day_of_the_week == 'Monday' or day_of_the_week == \"monday\":\n",
    "    print('Today is Monday!')\n",
    "else:\n",
    "    print('Today is NOT Monday.')\n",
    "\n",
    "# Print the result\n",
    "\n",
    "  "
   ]
  },
  {
   "cell_type": "code",
   "execution_count": 2,
   "id": "beea338b",
   "metadata": {},
   "outputs": [
    {
     "name": "stdout",
     "output_type": "stream",
     "text": [
      "Weekends Rock!!\n"
     ]
    }
   ],
   "source": [
    "\n",
    "#Prompt the user for a day of the week, print out whether the day is a weekday or a weekend\n",
    "day_of_the_week = 'Saturday'\n",
    "\n",
    "if day_of_the_week == 'Saturday' or day_of_the_week == 'Sunday':\n",
    "    print('Weekends Rock!!')\n",
    "else:\n",
    "    print('Weak-days stink')\n"
   ]
  },
  {
   "cell_type": "code",
   "execution_count": 152,
   "id": "6988e097",
   "metadata": {},
   "outputs": [
    {
     "name": "stdout",
     "output_type": "stream",
     "text": [
      "5500.0 is the weekly pay\n"
     ]
    }
   ],
   "source": [
    "# #Calculate a weekly paycheck, accounting for overtime pay. Create variables and make up values for:\n",
    "#For working 40 hours or less, each hour is paid at the hourly rate. For working more than 40 hours\n",
    "# Forty_or_less_hours for Forty_or_less_hours in range (40)  (if range (0-40)one_week_hours_of work =< 40 then * hourly_rate \n",
    "\n",
    "\n",
    "# #the first 40 hours are paid at the hourly rate. Each hour after 40 is paid at time and a half (hourly rate * 1.5)\n",
    "standard_pay = 100\n",
    "overtime_pay = standard_pay * 1.5\n",
    "h = 50\n",
    "\n",
    "if h <= 40:\n",
    "    weekly_paycheck = h * standard_pay\n",
    "    print (f'{weekly_paycheck} is the weekly pay') \n",
    "elif h > 40:\n",
    "    print \n",
    "    weekly_paycheck = ((standard_pay * 40) + ((h - 40) * overtime_pay))\n",
    "    print (f'{weekly_paycheck} is the weekly pay') \n",
    "    "
   ]
  },
  {
   "cell_type": "markdown",
   "id": "e59a3e64",
   "metadata": {},
   "source": [
    "### 2. Loop Basics\n",
    "\n",
    "a. While\n",
    "\n",
    "     i. Create an integer variable i with a value of 5. Create a while loop that runs so long as i is less than or      equal to 15. Each loop iteration, output the current value of i, then increment i by one.\n",
    "     Your output should look like this:"
   ]
  },
  {
   "cell_type": "code",
   "execution_count": 4,
   "id": "17d6f298",
   "metadata": {},
   "outputs": [
    {
     "name": "stdout",
     "output_type": "stream",
     "text": [
      "5\n",
      "6\n",
      "7\n",
      "8\n",
      "9\n",
      "10\n",
      "11\n",
      "12\n",
      "13\n",
      "14\n",
      "15\n"
     ]
    }
   ],
   "source": [
    "i = 5\n",
    "while i <= 15:\n",
    "    print(i)\n",
    "    i += 1"
   ]
  },
  {
   "cell_type": "markdown",
   "id": "c7c793e8",
   "metadata": {},
   "source": [
    "ii. Create a while loop that will count by 2's starting with 0 and ending at 100. Follow each number with a new line."
   ]
  },
  {
   "cell_type": "code",
   "execution_count": 5,
   "id": "11215b2f",
   "metadata": {},
   "outputs": [
    {
     "name": "stdout",
     "output_type": "stream",
     "text": [
      "0\n",
      "2\n",
      "4\n",
      "6\n",
      "8\n",
      "10\n",
      "12\n",
      "14\n",
      "16\n",
      "18\n",
      "20\n",
      "22\n",
      "24\n",
      "26\n",
      "28\n",
      "30\n",
      "32\n",
      "34\n",
      "36\n",
      "38\n",
      "40\n",
      "42\n",
      "44\n",
      "46\n",
      "48\n",
      "50\n",
      "52\n",
      "54\n",
      "56\n",
      "58\n",
      "60\n",
      "62\n",
      "64\n",
      "66\n",
      "68\n",
      "70\n",
      "72\n",
      "74\n",
      "76\n",
      "78\n",
      "80\n",
      "82\n",
      "84\n",
      "86\n",
      "88\n",
      "90\n",
      "92\n",
      "94\n",
      "96\n",
      "98\n",
      "100\n"
     ]
    }
   ],
   "source": [
    "i = 0\n",
    "while i <= 100:\n",
    "    print(i)\n",
    "    i += 2"
   ]
  },
  {
   "cell_type": "markdown",
   "id": "179c0437",
   "metadata": {},
   "source": [
    "ii. Create a while loop that starts at 2, and displays the number squared on each line while the number is less than 1,000,000. Output should equal:"
   ]
  },
  {
   "cell_type": "code",
   "execution_count": 6,
   "id": "021e6b65",
   "metadata": {},
   "outputs": [
    {
     "name": "stdout",
     "output_type": "stream",
     "text": [
      "2\n",
      "4\n",
      "16\n",
      "256\n",
      "65536\n"
     ]
    }
   ],
   "source": [
    "i = 2\n",
    "while i <= 1000000:\n",
    "    print(i)\n",
    "    i *= i"
   ]
  },
  {
   "cell_type": "markdown",
   "id": "16c31689",
   "metadata": {},
   "source": [
    "iii. Write a while loop that uses print to create the output shown below."
   ]
  },
  {
   "cell_type": "code",
   "execution_count": 7,
   "id": "78a0b3a3",
   "metadata": {},
   "outputs": [
    {
     "name": "stdout",
     "output_type": "stream",
     "text": [
      "100\n",
      "95\n",
      "90\n",
      "85\n",
      "80\n",
      "75\n",
      "70\n",
      "65\n",
      "60\n",
      "55\n",
      "50\n",
      "45\n",
      "40\n",
      "35\n",
      "30\n",
      "25\n",
      "20\n",
      "15\n",
      "10\n",
      "5\n"
     ]
    }
   ],
   "source": [
    "i = 100\n",
    "while i <= 100 and i >= 5:\n",
    "    print(i)\n",
    "    i -= 5"
   ]
  },
  {
   "cell_type": "markdown",
   "id": "a07a8b7f",
   "metadata": {},
   "source": [
    "###For Loops\n",
    "    i. Write some code using a for loop that prompts the user for a number, then shows a multiplication table up through 10 for that number.\n",
    "\n",
    "For example, if the user enters 7, your program should output:"
   ]
  },
  {
   "cell_type": "code",
   "execution_count": 12,
   "id": "3a0ff80a",
   "metadata": {
    "scrolled": true
   },
   "outputs": [
    {
     "name": "stdout",
     "output_type": "stream",
     "text": [
      "Please input positive number:7\n",
      "7 x 1 = 7\n",
      "7 x 2 = 14\n",
      "7 x 3 = 21\n",
      "7 x 4 = 28\n",
      "7 x 5 = 35\n",
      "7 x 6 = 42\n",
      "7 x 7 = 49\n",
      "7 x 8 = 56\n",
      "7 x 9 = 63\n",
      "7 x 10 = 70\n"
     ]
    }
   ],
   "source": [
    "numbers = int(input('Please input positive number:'))\n",
    "for number in range (1, 11):\n",
    "    sum = numbers * number\n",
    "    print(f'{numbers} x {number} = {sum}')\n",
    "        \n"
   ]
  },
  {
   "cell_type": "markdown",
   "id": "da4bdc7c",
   "metadata": {},
   "source": [
    "ii. Create a for loop that uses print to create the output shown below."
   ]
  },
  {
   "cell_type": "code",
   "execution_count": 9,
   "id": "1cdd6120",
   "metadata": {
    "scrolled": true
   },
   "outputs": [
    {
     "name": "stdout",
     "output_type": "stream",
     "text": [
      "1\n",
      "22\n",
      "333\n",
      "4444\n",
      "55555\n",
      "666666\n",
      "7777777\n",
      "88888888\n",
      "999999999\n"
     ]
    }
   ],
   "source": [
    "# -- number = 1 not needed -- \n",
    "for numbers in range (1, 10):\n",
    "    print(f\"{str(numbers) * numbers}\")\n"
   ]
  },
  {
   "cell_type": "markdown",
   "id": "f2e9cd7b",
   "metadata": {},
   "source": [
    "### Break and Continue\n",
    "\n",
    "i. Write a program that prompts the user for a positive integer. Next write a loop that prints out the numbers from the number the user entered down to 1."
   ]
  },
  {
   "cell_type": "code",
   "execution_count": 13,
   "id": "f3425550",
   "metadata": {},
   "outputs": [
    {
     "name": "stdout",
     "output_type": "stream",
     "text": [
      "Please input positive integer:9\n",
      "9\n",
      "8\n",
      "7\n",
      "6\n",
      "5\n",
      "4\n",
      "3\n",
      "2\n",
      "1\n"
     ]
    }
   ],
   "source": [
    "pos_int = int(input('Please input positive integer:'))\n",
    "while pos_int >= 1:\n",
    "    print(pos_int)\n",
    "    pos_int -= 1\n",
    "    \n",
    "    \n",
    "    #print(f\"{pos_int} - 1\n",
    " #   if n < 1"
   ]
  },
  {
   "cell_type": "markdown",
   "id": "a29188d0",
   "metadata": {},
   "source": [
    "ii. The input function can be used to prompt for input and use that input in your python code. Prompt the user to enter a positive number and write a loop that counts from 0 to that number. (Hints: note that the input function returns a string, so you'll need to convert this to a numeric type.)"
   ]
  },
  {
   "cell_type": "code",
   "execution_count": 154,
   "id": "d26cbd19",
   "metadata": {},
   "outputs": [
    {
     "name": "stdout",
     "output_type": "stream",
     "text": [
      "Please input positive: 9\n",
      "0\n",
      "1\n",
      "2\n",
      "3\n",
      "4\n",
      "5\n",
      "6\n",
      "7\n",
      "8\n",
      "9\n",
      "10\n",
      "11\n"
     ]
    }
   ],
   "source": [
    "pos_int = int(input('Please input positive: '))\n",
    "for pos_int in range (100):\n",
    "# while pos_int >= 0: -- not need )\n",
    "    print(pos_int)\n",
    "    if pos_int > 10:\n",
    "        break\n",
    "    "
   ]
  },
  {
   "cell_type": "markdown",
   "id": "76088d55",
   "metadata": {},
   "source": [
    "iii. Prompt the user for an odd number between 1 and 50. Use a loop and a break statement to continue prompting the user if they enter invalid input. (Hint: use the isdigit method on strings to determine this). Use a loop and the continue statement to output all the odd numbers between 1 and 50, except for the number the user entered.\n",
    "\n"
   ]
  },
  {
   "cell_type": "code",
   "execution_count": 156,
   "id": "6122e2a9",
   "metadata": {},
   "outputs": [
    {
     "name": "stdout",
     "output_type": "stream",
     "text": [
      "Number to skip is: 3\n",
      "Thank you for giing me a positive odd number between 1 and 50\n",
      "Here is an odd number 1\n",
      "Yikes! Skipping number: 3\n",
      "Here is an odd number 5\n",
      "Here is an odd number 7\n",
      "Here is an odd number 9\n",
      "Here is an odd number 11\n",
      "Here is an odd number 13\n",
      "Here is an odd number 15\n",
      "Here is an odd number 17\n",
      "Here is an odd number 19\n",
      "Here is an odd number 21\n",
      "Here is an odd number 23\n",
      "Here is an odd number 25\n",
      "Here is an odd number 27\n",
      "Here is an odd number 29\n",
      "Here is an odd number 31\n",
      "Here is an odd number 33\n",
      "Here is an odd number 35\n",
      "Here is an odd number 37\n",
      "Here is an odd number 39\n",
      "Here is an odd number 41\n",
      "Here is an odd number 43\n",
      "Here is an odd number 45\n",
      "Here is an odd number 47\n",
      "Here is an odd number 49\n"
     ]
    }
   ],
   "source": [
    "while True:\n",
    "    odd_number = input('Number to skip is: ')\n",
    "    if int(odd_number) > 1 and int(odd_number) < 50 and odd_number.isdigit() and int(odd_number) % 2 == 1:\n",
    "        print ('Thank you for giing me a positive odd number between 1 and 50')\n",
    "        break\n",
    "    else:\n",
    "        print('Please try again with a positive odd number between 1 and 50')\n",
    "for num in range (50):\n",
    "    if num == int(odd_number):\n",
    "        print(f'Yikes! Skipping number: {odd_number}')\n",
    "        continue\n",
    "    if num % 2 == 1:\n",
    "        print('Here is an odd number', num)\n",
    "    "
   ]
  },
  {
   "cell_type": "markdown",
   "id": "f292d07a",
   "metadata": {},
   "source": [
    "### 3. Fizzbuzz\n",
    "\n",
    "One of the most common interview questions for entry-level programmers is the FizzBuzz test. Developed by Imran Ghory, the test is designed to test basic looping and conditional logic skills.\n",
    "\n",
    "Write a program that prints the numbers from 1 to 100.\n",
    "For multiples of three print \"Fizz\" instead of the number\n",
    "For the multiples of five print \"Buzz\".\n",
    "For numbers which are multiples of both three and five print \"FizzBuzz\"."
   ]
  },
  {
   "cell_type": "code",
   "execution_count": 157,
   "id": "b3d7127d",
   "metadata": {},
   "outputs": [
    {
     "name": "stdout",
     "output_type": "stream",
     "text": [
      "1\n",
      "2\n",
      "Fizz\n",
      "4\n",
      "Buzz\n",
      "Fizz\n",
      "7\n",
      "8\n",
      "Fizz\n",
      "Buzz\n",
      "11\n",
      "Fizz\n",
      "13\n",
      "14\n",
      "FizzBuzz\n",
      "16\n",
      "17\n",
      "Fizz\n",
      "19\n",
      "Buzz\n",
      "Fizz\n",
      "22\n",
      "23\n",
      "Fizz\n",
      "Buzz\n",
      "26\n",
      "Fizz\n",
      "28\n",
      "29\n",
      "FizzBuzz\n",
      "31\n",
      "32\n",
      "Fizz\n",
      "34\n",
      "Buzz\n",
      "Fizz\n",
      "37\n",
      "38\n",
      "Fizz\n",
      "Buzz\n",
      "41\n",
      "Fizz\n",
      "43\n",
      "44\n",
      "FizzBuzz\n",
      "46\n",
      "47\n",
      "Fizz\n",
      "49\n",
      "Buzz\n",
      "Fizz\n",
      "52\n",
      "53\n",
      "Fizz\n",
      "Buzz\n",
      "56\n",
      "Fizz\n",
      "58\n",
      "59\n",
      "FizzBuzz\n",
      "61\n",
      "62\n",
      "Fizz\n",
      "64\n",
      "Buzz\n",
      "Fizz\n",
      "67\n",
      "68\n",
      "Fizz\n",
      "Buzz\n",
      "71\n",
      "Fizz\n",
      "73\n",
      "74\n",
      "FizzBuzz\n",
      "76\n",
      "77\n",
      "Fizz\n",
      "79\n",
      "Buzz\n",
      "Fizz\n",
      "82\n",
      "83\n",
      "Fizz\n",
      "Buzz\n",
      "86\n",
      "Fizz\n",
      "88\n",
      "89\n",
      "FizzBuzz\n",
      "91\n",
      "92\n",
      "Fizz\n",
      "94\n",
      "Buzz\n",
      "Fizz\n",
      "97\n",
      "98\n",
      "Fizz\n",
      "Buzz\n"
     ]
    }
   ],
   "source": [
    "# numbers = int(input('Please input number:'))\n",
    "for number in range(1, 101):\n",
    "    if number % 3 == 0 and  number % 5 == 0:\n",
    "        print('FizzBuzz')\n",
    "    elif number % 5 == 0:\n",
    "         print('Buzz')\n",
    "    elif  number % 3 == 0:\n",
    "        print ('Fizz')\n",
    "    else: \n",
    "        print(number)\n",
    "    "
   ]
  },
  {
   "cell_type": "markdown",
   "id": "71351ad7",
   "metadata": {},
   "source": [
    "4. Display a table of powers.\n",
    "\n",
    "* Prompt the user to enter an integer\n",
    "* Display a table of squares and cubes from 1 to the value entered\n",
    "* Ask if the user wants to continue\n",
    "* Assume that the user will enter valid data\n",
    "* Only continue if the user agrees to"
   ]
  },
  {
   "cell_type": "code",
   "execution_count": 164,
   "id": "505ef388",
   "metadata": {},
   "outputs": [
    {
     "ename": "SyntaxError",
     "evalue": "'break' outside loop (238618540.py, line 21)",
     "output_type": "error",
     "traceback": [
      "\u001b[0;36m  Cell \u001b[0;32mIn[164], line 21\u001b[0;36m\u001b[0m\n\u001b[0;31m    break\u001b[0m\n\u001b[0m    ^\u001b[0m\n\u001b[0;31mSyntaxError\u001b[0m\u001b[0;31m:\u001b[0m 'break' outside loop\n"
     ]
    }
   ],
   "source": [
    "# Prompt the user to enter an integer\n",
    "# user_number = int(input('Pick a number: '))\n",
    "#keep_going = input('Do you want to continue?')\n",
    "#if keep_going:\n",
    "# display_table()\n",
    "# Display a table of squares and cubes from 1 to the value entered\n",
    "\n",
    "def display_table():\n",
    "    user_number = int(input('Pick a number: '))\n",
    "\n",
    "    \n",
    "    print('number | squared | cubed')\n",
    "    print('------ | ------- | ------')\n",
    "    \n",
    "    for i in range(1, user_number+1):\n",
    "        print(f'{i}  |  {i * i} | {i * i * i} ')\n",
    "    \n",
    "    keep_going = input('Do you want to continue? y/n')\n",
    "\n",
    "    if keep_going == 'n':\n",
    "        break\n",
    "         \n",
    "    \n",
    "    display_table()\n"
   ]
  },
  {
   "cell_type": "code",
   "execution_count": 141,
   "id": "916d54c9",
   "metadata": {},
   "outputs": [
    {
     "name": "stdout",
     "output_type": "stream",
     "text": [
      "Pick a number: 5\n",
      "number | squared | cubed\n",
      "------ | ------- | ------\n",
      "1  |  1 | 1 \n",
      "2  |  4 | 8 \n",
      "3  |  9 | 27 \n",
      "4  |  16 | 64 \n",
      "5  |  25 | 125 \n",
      "Do you want to continue?n\n"
     ]
    },
    {
     "ename": "KeyboardInterrupt",
     "evalue": "Interrupted by user",
     "output_type": "error",
     "traceback": [
      "\u001b[0;31m---------------------------------------------------------------------------\u001b[0m",
      "\u001b[0;31mKeyboardInterrupt\u001b[0m                         Traceback (most recent call last)",
      "Cell \u001b[0;32mIn[141], line 1\u001b[0m\n\u001b[0;32m----> 1\u001b[0m \u001b[43mdisplay_table\u001b[49m\u001b[43m(\u001b[49m\u001b[43m)\u001b[49m\n",
      "Cell \u001b[0;32mIn[121], line 21\u001b[0m, in \u001b[0;36mdisplay_table\u001b[0;34m()\u001b[0m\n\u001b[1;32m     18\u001b[0m keep_going \u001b[38;5;241m=\u001b[39m \u001b[38;5;28minput\u001b[39m(\u001b[38;5;124m'\u001b[39m\u001b[38;5;124mDo you want to continue?\u001b[39m\u001b[38;5;124m'\u001b[39m)\n\u001b[1;32m     20\u001b[0m \u001b[38;5;28;01mif\u001b[39;00m keep_going:\n\u001b[0;32m---> 21\u001b[0m     \u001b[43mdisplay_table\u001b[49m\u001b[43m(\u001b[49m\u001b[43m)\u001b[49m\n",
      "Cell \u001b[0;32mIn[121], line 9\u001b[0m, in \u001b[0;36mdisplay_table\u001b[0;34m()\u001b[0m\n\u001b[1;32m      8\u001b[0m \u001b[38;5;28;01mdef\u001b[39;00m \u001b[38;5;21mdisplay_table\u001b[39m():\n\u001b[0;32m----> 9\u001b[0m     user_number \u001b[38;5;241m=\u001b[39m \u001b[38;5;28mint\u001b[39m(\u001b[38;5;28;43minput\u001b[39;49m\u001b[43m(\u001b[49m\u001b[38;5;124;43m'\u001b[39;49m\u001b[38;5;124;43mPick a number: \u001b[39;49m\u001b[38;5;124;43m'\u001b[39;49m\u001b[43m)\u001b[49m)\n\u001b[1;32m     12\u001b[0m     \u001b[38;5;28mprint\u001b[39m(\u001b[38;5;124m'\u001b[39m\u001b[38;5;124mnumber | squared | cubed\u001b[39m\u001b[38;5;124m'\u001b[39m)\n\u001b[1;32m     13\u001b[0m     \u001b[38;5;28mprint\u001b[39m(\u001b[38;5;124m'\u001b[39m\u001b[38;5;124m------ | ------- | ------\u001b[39m\u001b[38;5;124m'\u001b[39m)\n",
      "File \u001b[0;32m/opt/homebrew/anaconda3/lib/python3.10/site-packages/ipykernel/kernelbase.py:1175\u001b[0m, in \u001b[0;36mKernel.raw_input\u001b[0;34m(self, prompt)\u001b[0m\n\u001b[1;32m   1171\u001b[0m \u001b[38;5;28;01mif\u001b[39;00m \u001b[38;5;129;01mnot\u001b[39;00m \u001b[38;5;28mself\u001b[39m\u001b[38;5;241m.\u001b[39m_allow_stdin:\n\u001b[1;32m   1172\u001b[0m     \u001b[38;5;28;01mraise\u001b[39;00m StdinNotImplementedError(\n\u001b[1;32m   1173\u001b[0m         \u001b[38;5;124m\"\u001b[39m\u001b[38;5;124mraw_input was called, but this frontend does not support input requests.\u001b[39m\u001b[38;5;124m\"\u001b[39m\n\u001b[1;32m   1174\u001b[0m     )\n\u001b[0;32m-> 1175\u001b[0m \u001b[38;5;28;01mreturn\u001b[39;00m \u001b[38;5;28;43mself\u001b[39;49m\u001b[38;5;241;43m.\u001b[39;49m\u001b[43m_input_request\u001b[49m\u001b[43m(\u001b[49m\n\u001b[1;32m   1176\u001b[0m \u001b[43m    \u001b[49m\u001b[38;5;28;43mstr\u001b[39;49m\u001b[43m(\u001b[49m\u001b[43mprompt\u001b[49m\u001b[43m)\u001b[49m\u001b[43m,\u001b[49m\n\u001b[1;32m   1177\u001b[0m \u001b[43m    \u001b[49m\u001b[38;5;28;43mself\u001b[39;49m\u001b[38;5;241;43m.\u001b[39;49m\u001b[43m_parent_ident\u001b[49m\u001b[43m[\u001b[49m\u001b[38;5;124;43m\"\u001b[39;49m\u001b[38;5;124;43mshell\u001b[39;49m\u001b[38;5;124;43m\"\u001b[39;49m\u001b[43m]\u001b[49m\u001b[43m,\u001b[49m\n\u001b[1;32m   1178\u001b[0m \u001b[43m    \u001b[49m\u001b[38;5;28;43mself\u001b[39;49m\u001b[38;5;241;43m.\u001b[39;49m\u001b[43mget_parent\u001b[49m\u001b[43m(\u001b[49m\u001b[38;5;124;43m\"\u001b[39;49m\u001b[38;5;124;43mshell\u001b[39;49m\u001b[38;5;124;43m\"\u001b[39;49m\u001b[43m)\u001b[49m\u001b[43m,\u001b[49m\n\u001b[1;32m   1179\u001b[0m \u001b[43m    \u001b[49m\u001b[43mpassword\u001b[49m\u001b[38;5;241;43m=\u001b[39;49m\u001b[38;5;28;43;01mFalse\u001b[39;49;00m\u001b[43m,\u001b[49m\n\u001b[1;32m   1180\u001b[0m \u001b[43m\u001b[49m\u001b[43m)\u001b[49m\n",
      "File \u001b[0;32m/opt/homebrew/anaconda3/lib/python3.10/site-packages/ipykernel/kernelbase.py:1217\u001b[0m, in \u001b[0;36mKernel._input_request\u001b[0;34m(self, prompt, ident, parent, password)\u001b[0m\n\u001b[1;32m   1214\u001b[0m             \u001b[38;5;28;01mbreak\u001b[39;00m\n\u001b[1;32m   1215\u001b[0m \u001b[38;5;28;01mexcept\u001b[39;00m \u001b[38;5;167;01mKeyboardInterrupt\u001b[39;00m:\n\u001b[1;32m   1216\u001b[0m     \u001b[38;5;66;03m# re-raise KeyboardInterrupt, to truncate traceback\u001b[39;00m\n\u001b[0;32m-> 1217\u001b[0m     \u001b[38;5;28;01mraise\u001b[39;00m \u001b[38;5;167;01mKeyboardInterrupt\u001b[39;00m(\u001b[38;5;124m\"\u001b[39m\u001b[38;5;124mInterrupted by user\u001b[39m\u001b[38;5;124m\"\u001b[39m) \u001b[38;5;28;01mfrom\u001b[39;00m \u001b[38;5;28mNone\u001b[39m\n\u001b[1;32m   1218\u001b[0m \u001b[38;5;28;01mexcept\u001b[39;00m \u001b[38;5;167;01mException\u001b[39;00m:\n\u001b[1;32m   1219\u001b[0m     \u001b[38;5;28mself\u001b[39m\u001b[38;5;241m.\u001b[39mlog\u001b[38;5;241m.\u001b[39mwarning(\u001b[38;5;124m\"\u001b[39m\u001b[38;5;124mInvalid Message:\u001b[39m\u001b[38;5;124m\"\u001b[39m, exc_info\u001b[38;5;241m=\u001b[39m\u001b[38;5;28;01mTrue\u001b[39;00m)\n",
      "\u001b[0;31mKeyboardInterrupt\u001b[0m: Interrupted by user"
     ]
    }
   ],
   "source": [
    "display_table()"
   ]
  },
  {
   "cell_type": "markdown",
   "id": "bb54b04b",
   "metadata": {},
   "source": [
    "Convert given number grades into letter grades.\n",
    "\n",
    "Prompt the user for a numerical grade from 0 to 100\n",
    "Display the corresponding letter grade\n",
    "Prompt the user to continue\n",
    "Assume that the user will enter valid integers for the grades\n",
    "The application should only continue if the user agrees to\n",
    "Grade Ranges:\n",
    "\n",
    "* A : 100 - 88\n",
    "* B : 87 - 80\n",
    "* C : 79 - 67\n",
    "* D : 66 - 60\n",
    "* F : 59 - 0"
   ]
  },
  {
   "cell_type": "code",
   "execution_count": 169,
   "id": "b27417e7",
   "metadata": {},
   "outputs": [],
   "source": [
    "gradebook = {\n",
    "  '100 - 88': 'A',\n",
    "  '87-80': 'B',\n",
    "  '79-67': 'C',\n",
    "  '66-60': 'D',\n",
    "  '59-0': 'F'\n",
    "}\n",
    "\n",
    "def get_grade():\n",
    "    grade = int(input('What is your number grade from 0 to 100? '))\n",
    "\n",
    "    for k, v in gradebook.items():\n",
    "        rang = k.split('-')\n",
    "        if grade > int(rang[1]) and grade < int(rang[0]):\n",
    "            return print(f'Your letter grade is {v}' )\n",
    "    keep_going = input('Do you want to continue?')\n",
    "# Prompt the user to continue\n",
    "    if keep_going:\n",
    "        get_grade()\n",
    "\n",
    "# Assume that the user will enter valid integers for the grades\n",
    "# The application should only continue if the user agrees to"
   ]
  },
  {
   "cell_type": "code",
   "execution_count": 171,
   "id": "bb28141a",
   "metadata": {},
   "outputs": [
    {
     "name": "stdout",
     "output_type": "stream",
     "text": [
      "What is your number grade from 0 to 100? 89\n",
      "Your letter grade is A\n"
     ]
    }
   ],
   "source": [
    "get_grade()"
   ]
  },
  {
   "cell_type": "markdown",
   "id": "a1a21f5d",
   "metadata": {},
   "source": [
    "Create a list of dictionaries where each dictionary represents a book that you have read. Each dictionary in the list should have the keys title, author, and genre. Loop through the list and print out information about each book.\n",
    "\n",
    "Prompt the user to enter a genre, then loop through your books list and print out the titles of all the books in that genre."
   ]
  },
  {
   "cell_type": "markdown",
   "id": "c4a91596",
   "metadata": {},
   "source": [
    "books_read = [\n",
    "    {\n",
    "        'title': 'Outliers',\n",
    "        'author': 'Malcolm Gladwell',\n",
    "        'genre': 'self help'\n",
    "    },\n",
    "    {\n",
    "        'title': 'Dirty War',\n",
    "        'author': 'Kenya Wright',\n",
    "        'genre': 'romance'\n",
    "    },\n",
    "    {\n",
    "        'title': 'Dirty Love',\n",
    "        'author': 'Kenya Wright',\n",
    "        'genre': 'romance'\n",
    "    }\n",
    "]\n",
    "\n",
    "ask = input('Enter a genre: ')\n",
    "for book in books_read:\n",
    "    if ask == book['genre']:\n",
    "        print(book)\n"
   ]
  }
 ],
 "metadata": {
  "kernelspec": {
   "display_name": "Python 3 (ipykernel)",
   "language": "python",
   "name": "python3"
  },
  "language_info": {
   "codemirror_mode": {
    "name": "ipython",
    "version": 3
   },
   "file_extension": ".py",
   "mimetype": "text/x-python",
   "name": "python",
   "nbconvert_exporter": "python",
   "pygments_lexer": "ipython3",
   "version": "3.10.9"
  }
 },
 "nbformat": 4,
 "nbformat_minor": 5
}
