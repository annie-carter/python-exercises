{
 "cells": [
  {
   "cell_type": "markdown",
   "id": "9faa434d",
   "metadata": {},
   "source": [
    "### 1. Conditional Basics\n",
    "\n",
    "Prompt the user for a day of the week, print out whether the day is Monday or not\n",
    "\n",
    "Prompt the user for a day of the week, print out whether the day is a weekday or a weekend\n",
    "\n",
    "Calculate a weekly paycheck, accounting for overtime pay. Create variables and make up values for:\n",
    "\n",
    "The number of hours worked in one week\n",
    "The hourly rate\n",
    "For calculating pay:\n",
    "\n",
    "For working 40 hours or less, each hour is paid at the hourly rate\n",
    "For working more than 40 hours\n",
    "\n",
    "the first 40 hours are paid at the hourly rate\n",
    "\n",
    "each hour after 40 is paid at time and a half (hourly rate * 1.5)"
   ]
  },
  {
   "cell_type": "code",
   "execution_count": 3,
   "id": "b766ddad",
   "metadata": {},
   "outputs": [
    {
     "ename": "SyntaxError",
     "evalue": "invalid decimal literal (2630187474.py, line 13)",
     "output_type": "error",
     "traceback": [
      "\u001b[0;36m  Cell \u001b[0;32mIn[3], line 13\u001b[0;36m\u001b[0m\n\u001b[0;31m    40_or_less_hours = (one_week_hours_of work * hourly_rate)\u001b[0m\n\u001b[0m      ^\u001b[0m\n\u001b[0;31mSyntaxError\u001b[0m\u001b[0;31m:\u001b[0m invalid decimal literal\n"
     ]
    }
   ],
   "source": [
    "#Prompt the user for a day of the week, print out whether the day is Monday or not\n",
    "\n",
    "#Prompt the user for a day of the week, print out whether the day is a weekday or a weekend\n",
    "\n",
    "#Calculate a weekly paycheck, accounting for overtime pay. Create variables and make up values for:\n",
    "\n",
    "# * The number of hours worked in one week\n",
    "one_week_hours_of work = 52\n",
    "# * The hourly rate\n",
    "hourly_rate = float 55.00 \n",
    "# * For calculating pay\n",
    "#For working 40 hours or less, each hour is paid at the hourly rate. For working more than 40 hours\n",
    "Forty_or_less_hours for Forty_or_less_hours in range (40)  (if range (0-40)one_week_hours_of work =< 40 then * hourly_rate \n",
    "\n",
    "\n",
    "#the first 40 hours are paid at the hourly rate. Each hour after 40 is paid at time and a half (hourly rate * 1.5)"
   ]
  }
 ],
 "metadata": {
  "kernelspec": {
   "display_name": "Python 3 (ipykernel)",
   "language": "python",
   "name": "python3"
  },
  "language_info": {
   "codemirror_mode": {
    "name": "ipython",
    "version": 3
   },
   "file_extension": ".py",
   "mimetype": "text/x-python",
   "name": "python",
   "nbconvert_exporter": "python",
   "pygments_lexer": "ipython3",
   "version": "3.10.9"
  }
 },
 "nbformat": 4,
 "nbformat_minor": 5
}
