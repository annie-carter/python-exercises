{
 "cells": [
  {
   "cell_type": "markdown",
   "id": "22d96655",
   "metadata": {},
   "source": [
    "### Imports\n",
    "1. Import and test 3 of the functions from your functions exercise file. Import each function in a different way:"
   ]
  },
  {
   "cell_type": "markdown",
   "id": "104e48ea",
   "metadata": {},
   "source": [
    "a. Run an interactive python session and import the module. Call the is_vowel function using the . syntax."
   ]
  },
  {
   "cell_type": "code",
   "execution_count": 20,
   "id": "8df6fb6e",
   "metadata": {},
   "outputs": [],
   "source": [
    "import import_exercises "
   ]
  },
  {
   "cell_type": "code",
   "execution_count": 10,
   "id": "444a02e5",
   "metadata": {},
   "outputs": [
    {
     "name": "stdout",
     "output_type": "stream",
     "text": [
      "This is a not a vowel\n"
     ]
    }
   ],
   "source": [
    "import_exercises.is_vowel('b')"
   ]
  },
  {
   "cell_type": "markdown",
   "id": "b83c0e2a",
   "metadata": {},
   "source": [
    "b. Create a file named import_exericses.py. Within this file, use. from to import the calculate_tip function directly. Call this function with values you choose and print the result."
   ]
  },
  {
   "cell_type": "code",
   "execution_count": 38,
   "id": "43feda9c",
   "metadata": {},
   "outputs": [],
   "source": [
    "from import_exercises import calculate_tip"
   ]
  },
  {
   "cell_type": "code",
   "execution_count": 41,
   "id": "b4551e0f",
   "metadata": {},
   "outputs": [
    {
     "data": {
      "text/plain": [
       "1.0"
      ]
     },
     "execution_count": 41,
     "metadata": {},
     "output_type": "execute_result"
    }
   ],
   "source": [
    "calculate_tip (10, .10)"
   ]
  },
  {
   "cell_type": "markdown",
   "id": "aae32b73",
   "metadata": {},
   "source": [
    "c. Create a file named import_exericses.py. Within this file, use from to import the calculate_tip function directly. Call this function with values you choose and print the result."
   ]
  },
  {
   "cell_type": "code",
   "execution_count": 22,
   "id": "03156dbf",
   "metadata": {},
   "outputs": [],
   "source": [
    "from import_exercises import get_letter_grade as grades"
   ]
  },
  {
   "cell_type": "code",
   "execution_count": 16,
   "id": "bafae9b3",
   "metadata": {},
   "outputs": [
    {
     "data": {
      "text/plain": [
       "'F'"
      ]
     },
     "execution_count": 16,
     "metadata": {},
     "output_type": "execute_result"
    }
   ],
   "source": [
    "grades(56)"
   ]
  },
  {
   "cell_type": "markdown",
   "id": "e5d24010",
   "metadata": {},
   "source": []
  },
  {
   "cell_type": "code",
   "execution_count": 23,
   "id": "05effedc",
   "metadata": {},
   "outputs": [
    {
     "ename": "NameError",
     "evalue": "name 'product' is not defined",
     "output_type": "error",
     "traceback": [
      "\u001b[0;31m---------------------------------------------------------------------------\u001b[0m",
      "\u001b[0;31mNameError\u001b[0m                                 Traceback (most recent call last)",
      "Cell \u001b[0;32mIn[23], line 2\u001b[0m\n\u001b[1;32m      1\u001b[0m \u001b[38;5;28;01mimport\u001b[39;00m \u001b[38;5;21;01mitertools\u001b[39;00m\n\u001b[0;32m----> 2\u001b[0m \u001b[43mproduct\u001b[49m(\u001b[38;5;124m'\u001b[39m\u001b[38;5;124mabc \u001b[39m\u001b[38;5;124m'\u001b[39m)\n",
      "\u001b[0;31mNameError\u001b[0m: name 'product' is not defined"
     ]
    }
   ],
   "source": [
    "import itertools\n",
    "product('abc ')"
   ]
  }
 ],
 "metadata": {
  "kernelspec": {
   "display_name": "Python 3 (ipykernel)",
   "language": "python",
   "name": "python3"
  },
  "language_info": {
   "codemirror_mode": {
    "name": "ipython",
    "version": 3
   },
   "file_extension": ".py",
   "mimetype": "text/x-python",
   "name": "python",
   "nbconvert_exporter": "python",
   "pygments_lexer": "ipython3",
   "version": "3.10.9"
  }
 },
 "nbformat": 4,
 "nbformat_minor": 5
}
