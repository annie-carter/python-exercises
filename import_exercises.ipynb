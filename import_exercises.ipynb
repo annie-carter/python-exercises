{
 "cells": [
  {
   "cell_type": "markdown",
   "id": "68e1dffa",
   "metadata": {},
   "source": [
    "### Imports\n",
    "1. Import and test 3 of the functions from your functions exercise file. Import each function in a different way:"
   ]
  },
  {
   "cell_type": "markdown",
   "id": "fc66a530",
   "metadata": {},
   "source": [
    "a. Run an interactive python session and import the module. Call the is_vowel function using the . syntax."
   ]
  },
  {
   "cell_type": "code",
   "execution_count": 1,
   "id": "d2ddbf47",
   "metadata": {},
   "outputs": [],
   "source": [
    "import import_exercises "
   ]
  },
  {
   "cell_type": "code",
   "execution_count": 2,
   "id": "30d81cd2",
   "metadata": {},
   "outputs": [
    {
     "name": "stdout",
     "output_type": "stream",
     "text": [
      "This is a not a vowel\n"
     ]
    }
   ],
   "source": [
    "import_exercises.is_vowel('b')"
   ]
  },
  {
   "cell_type": "markdown",
   "id": "05c89d10",
   "metadata": {},
   "source": [
    "b. Create a file named import_exericses.py. Within this file, use. from to import the calculate_tip function directly. Call this function with values you choose and print the result."
   ]
  },
  {
   "cell_type": "code",
   "execution_count": 3,
   "id": "1f9e1fe7",
   "metadata": {},
   "outputs": [],
   "source": [
    "from import_exercises import calculate_tip"
   ]
  },
  {
   "cell_type": "code",
   "execution_count": 4,
   "id": "fcfa4e7e",
   "metadata": {},
   "outputs": [
    {
     "data": {
      "text/plain": [
       "100.0"
      ]
     },
     "execution_count": 4,
     "metadata": {},
     "output_type": "execute_result"
    }
   ],
   "source": [
    "calculate_tip (10, .10)"
   ]
  },
  {
   "cell_type": "markdown",
   "id": "9a536fdf",
   "metadata": {},
   "source": [
    "c. Create a file named import_exericses.py. Within this file, use from to import the calculate_tip function directly. Call this function with values you choose and print the result."
   ]
  },
  {
   "cell_type": "code",
   "execution_count": 5,
   "id": "0bfa67f3",
   "metadata": {},
   "outputs": [],
   "source": [
    "from import_exercises import get_letter_grade as grades"
   ]
  },
  {
   "cell_type": "code",
   "execution_count": 6,
   "id": "b7b5ae97",
   "metadata": {},
   "outputs": [
    {
     "data": {
      "text/plain": [
       "'F'"
      ]
     },
     "execution_count": 6,
     "metadata": {},
     "output_type": "execute_result"
    }
   ],
   "source": [
    "grades(56)"
   ]
  },
  {
   "cell_type": "markdown",
   "id": "ae7e8d4c",
   "metadata": {},
   "source": [
    "2. Read about and use the itertools module from the python standard library to help you solve the following problems. Note: Many of these functions in this library return an object, to see the results of the function, cast this object as a list."
   ]
  },
  {
   "cell_type": "markdown",
   "id": "78242166",
   "metadata": {},
   "source": [
    "* How many different ways can you combine a single letter from \"abc\" with either 1, 2, or 3?"
   ]
  },
  {
   "cell_type": "code",
   "execution_count": 7,
   "id": "205e5891",
   "metadata": {},
   "outputs": [
    {
     "data": {
      "text/plain": [
       "<itertools.combinations at 0x1064fe1b0>"
      ]
     },
     "execution_count": 7,
     "metadata": {},
     "output_type": "execute_result"
    }
   ],
   "source": [
    "from itertools import combinations\n",
    "\n",
    "combinations('abc', 1)\n",
    "combinations('abc', 2)\n",
    "combinations('abc', 3)"
   ]
  },
  {
   "cell_type": "markdown",
   "id": "332c51b2",
   "metadata": {},
   "source": [
    "* How many different combinations are there of 2 letters from \"abcd\"?"
   ]
  },
  {
   "cell_type": "code",
   "execution_count": 8,
   "id": "608ce51a",
   "metadata": {},
   "outputs": [
    {
     "name": "stdout",
     "output_type": "stream",
     "text": [
      "('a', 'b')\n",
      "('a', 'c')\n",
      "('a', 'd')\n",
      "('b', 'c')\n",
      "('b', 'd')\n",
      "('c', 'd')\n"
     ]
    }
   ],
   "source": [
    "import itertools\n",
    "\n",
    "combs = itertools.combinations('abcd', 2)\n",
    "for comb in combs:\n",
    "    print(comb)"
   ]
  },
  {
   "cell_type": "code",
   "execution_count": null,
   "id": "419617b5",
   "metadata": {},
   "outputs": [],
   "source": []
  },
  {
   "cell_type": "markdown",
   "id": "f8fdd46d",
   "metadata": {},
   "source": [
    "* How many different permutations are there of 2 letters from \"abcd\"?"
   ]
  },
  {
   "cell_type": "code",
   "execution_count": 9,
   "id": "0dc3b196",
   "metadata": {},
   "outputs": [
    {
     "name": "stdout",
     "output_type": "stream",
     "text": [
      "('a', 'b')\n",
      "('a', 'c')\n",
      "('a', 'd')\n",
      "('b', 'a')\n",
      "('b', 'c')\n",
      "('b', 'd')\n",
      "('c', 'a')\n",
      "('c', 'b')\n",
      "('c', 'd')\n",
      "('d', 'a')\n",
      "('d', 'b')\n",
      "('d', 'c')\n"
     ]
    }
   ],
   "source": [
    "import itertools\n",
    "\n",
    "perms = itertools.permutations('abcd', 2)\n",
    "for perm in perms:\n",
    "    print(perm)"
   ]
  },
  {
   "cell_type": "markdown",
   "id": "18272d01",
   "metadata": {},
   "source": [
    "3. Save this file as profiles.json inside of your exercises directory (right click -> save file as...).\n",
    "\n",
    "Use the load function from the json module to open this file."
   ]
  },
  {
   "cell_type": "code",
   "execution_count": 10,
   "id": "d4dc1525",
   "metadata": {},
   "outputs": [
    {
     "name": "stdout",
     "output_type": "stream",
     "text": [
      "[{'_id': '54e23c3e46ab53a440b580e8', 'index': 0, 'guid': '9962b468-ef3e-4993-b677-617469bc3008', 'isActive': False, 'balance': '$2,097.02', 'picture': 'http://placehold.it/32x32', 'age': 39, 'eyeColor': 'blue', 'name': 'Hebert Estes', 'gender': 'male', 'company': 'ANDRYX', 'email': 'hebertestes@andryx.com', 'phone': '+1 (866) 456-2268', 'address': '121 Emmons Avenue, Klondike, Kentucky, 5975', 'about': 'Sit cillum deserunt irure laboris tempor fugiat laboris. Amet commodo amet est incididunt. Dolore qui fugiat cillum pariatur dolore excepteur elit ipsum.\\r\\n', 'registered': '2014-11-10T01:44:03 +06:00', 'latitude': -80.157843, 'longitude': 161.93016, 'tags': ['sit', 'occaecat', 'non', 'ea', 'sit', 'laboris', 'exercitation'], 'friends': [{'id': 0, 'name': 'Tanisha Leonard'}, {'id': 1, 'name': 'Dennis Wilson'}, {'id': 2, 'name': 'Lupe Howe'}], 'greeting': 'Hello, Hebert Estes! You have 4 unread messages.', 'favoriteFruit': 'strawberry'}, {'_id': '54e23c3ef5cc0d250968c212', 'index': 1, 'guid': '905f849d-49bf-4a57-b4f3-5d6e4bf1b04c', 'isActive': False, 'balance': '$3,654.02', 'picture': 'http://placehold.it/32x32', 'age': 30, 'eyeColor': 'green', 'name': 'Allison Wynn', 'gender': 'male', 'company': 'PHARMACON', 'email': 'allisonwynn@pharmacon.com', 'phone': '+1 (926) 525-3131', 'address': '724 Brevoort Place, Lodoga, Indiana, 3880', 'about': 'Esse quis cillum sunt occaecat ad et eu incididunt aliquip dolor. Adipisicing labore magna anim cillum nisi. Elit mollit consequat velit nulla cillum excepteur elit ullamco deserunt. Anim aliquip Lorem excepteur ad veniam et labore in qui ullamco. Occaecat sit do incididunt voluptate id magna ea amet.\\r\\n', 'registered': '2014-06-10T13:41:26 +05:00', 'latitude': 55.737207, 'longitude': -167.177561, 'tags': ['enim', 'officia', 'laboris', 'irure', 'veniam', 'occaecat', 'pariatur'], 'friends': [{'id': 0, 'name': 'Curry Cox'}, {'id': 1, 'name': 'Alma Dale'}, {'id': 2, 'name': 'Barbara Mayo'}], 'greeting': 'Hello, Allison Wynn! You have 19 unread messages.', 'favoriteFruit': 'apple'}, {'_id': '54e23c3e09cc6875638cd36b', 'index': 2, 'guid': '1b042d48-9cfa-4db5-8b60-4104165591c3', 'isActive': True, 'balance': '$1,536.02', 'picture': 'http://placehold.it/32x32', 'age': 31, 'eyeColor': 'brown', 'name': 'Jacobs Floyd', 'gender': 'male', 'company': 'QUONK', 'email': 'jacobsfloyd@quonk.com', 'phone': '+1 (853) 537-3315', 'address': '941 Cox Place, Bluffview, Georgia, 5882', 'about': 'Deserunt adipisicing proident exercitation cillum anim consectetur labore exercitation. Commodo reprehenderit laborum enim exercitation. Ullamco nulla culpa aliqua nisi fugiat consectetur deserunt nostrud in eu.\\r\\n', 'registered': '2014-07-30T03:17:32 +05:00', 'latitude': 30.215667, 'longitude': 68.831905, 'tags': ['est', 'aute', 'laborum', 'sint', 'anim', 'sit', 'consectetur'], 'friends': [{'id': 0, 'name': 'Robles Chan'}, {'id': 1, 'name': 'Whitfield Strickland'}, {'id': 2, 'name': 'Lina Melton'}], 'greeting': 'Hello, Jacobs Floyd! You have 5 unread messages.', 'favoriteFruit': 'apple'}, {'_id': '54e23c3e54e4094147a3b1da', 'index': 3, 'guid': '69eb3454-8acc-46f1-a636-c6df00dfb542', 'isActive': False, 'balance': '$3,919.64', 'picture': 'http://placehold.it/32x32', 'age': 20, 'eyeColor': 'green', 'name': 'Fay Hammond', 'gender': 'female', 'company': 'INRT', 'email': 'fayhammond@inrt.com', 'phone': '+1 (922) 429-2592', 'address': '518 Randolph Street, Whitestone, Arizona, 8189', 'about': 'Aliqua sunt exercitation quis cupidatat fugiat nulla laboris occaecat ut reprehenderit qui incididunt. Amet excepteur qui amet mollit sint enim velit est dolor eu. Velit labore ea aute ipsum consequat culpa cupidatat excepteur aliqua. Sit commodo id est deserunt commodo. Labore sit deserunt enim in dolore incididunt. Officia qui est veniam cillum consequat minim duis Lorem esse magna culpa cupidatat cupidatat enim. Amet eiusmod elit qui reprehenderit commodo quis.\\r\\n', 'registered': '2015-01-30T08:05:38 +06:00', 'latitude': 33.825844, 'longitude': -65.969538, 'tags': ['aliqua', 'esse', 'sint', 'pariatur', 'commodo', 'do', 'anim'], 'friends': [{'id': 0, 'name': 'Dudley Booker'}, {'id': 1, 'name': 'Esmeralda Tyler'}, {'id': 2, 'name': 'Rosa Hampton'}], 'greeting': 'Hello, Fay Hammond! You have 10 unread messages.', 'favoriteFruit': 'banana'}, {'_id': '54e23c3e177caf5567ba87ac', 'index': 4, 'guid': '97962c85-7700-4ffa-a01e-2fcbc147fd81', 'isActive': False, 'balance': '$3,681.39', 'picture': 'http://placehold.it/32x32', 'age': 39, 'eyeColor': 'green', 'name': 'Chasity Marsh', 'gender': 'female', 'company': 'WAZZU', 'email': 'chasitymarsh@wazzu.com', 'phone': '+1 (976) 425-2362', 'address': '604 Just Court, Eastvale, Federated States Of Micronesia, 8644', 'about': 'Irure excepteur consequat esse qui tempor deserunt nulla fugiat. Ut excepteur do veniam dolore dolor proident sunt voluptate ad ipsum nisi. Lorem proident deserunt Lorem cupidatat dolor nulla qui id aliqua. Et nulla laborum deserunt tempor ad culpa. Ullamco occaecat adipisicing dolore laborum laborum duis aliqua nisi irure ex. Incididunt tempor Lorem quis dolore.\\r\\n', 'registered': '2014-07-31T06:03:19 +05:00', 'latitude': -31.660978, 'longitude': 37.559095, 'tags': ['aliquip', 'duis', 'irure', 'amet', 'aliquip', 'dolore', 'esse'], 'friends': [{'id': 0, 'name': 'Kristina Glover'}, {'id': 1, 'name': 'Ora Christian'}, {'id': 2, 'name': 'Jacklyn Joseph'}], 'greeting': 'Hello, Chasity Marsh! You have 9 unread messages.', 'favoriteFruit': 'apple'}, {'_id': '54e23c3eaffbb506aa15ec1c', 'index': 5, 'guid': 'fc3e04d1-44c2-449e-891a-d4f8053d14a4', 'isActive': True, 'balance': '$1,694.42', 'picture': 'http://placehold.it/32x32', 'age': 30, 'eyeColor': 'brown', 'name': 'Camacho Cortez', 'gender': 'male', 'company': 'EARTHWAX', 'email': 'camachocortez@earthwax.com', 'phone': '+1 (869) 528-2019', 'address': '101 Haring Street, Nicut, Louisiana, 1473', 'about': 'Qui ad commodo elit voluptate cupidatat exercitation amet ea laborum sunt aliquip nisi irure. Veniam voluptate eiusmod sint aliquip ea. Voluptate voluptate Lorem nulla laborum eiusmod occaecat et nostrud sint in cillum reprehenderit magna nulla. Lorem id fugiat laborum qui mollit amet. Culpa officia ipsum nisi culpa in. Fugiat quis eu cupidatat non culpa in ea velit pariatur non in excepteur.\\r\\n', 'registered': '2014-03-17T12:04:00 +05:00', 'latitude': 74.434627, 'longitude': 69.527088, 'tags': ['et', 'sit', 'in', 'id', 'ullamco', 'elit', 'laborum'], 'friends': [{'id': 0, 'name': 'Sexton Tillman'}, {'id': 1, 'name': 'Boone Steele'}, {'id': 2, 'name': 'Elvia Ward'}], 'greeting': 'Hello, Camacho Cortez! You have 19 unread messages.', 'favoriteFruit': 'apple'}, {'_id': '54e23c3e0fd8074c2ca52667', 'index': 6, 'guid': 'af8d9a03-fde9-4039-b20c-c4708d4cfc3c', 'isActive': False, 'balance': '$1,214.10', 'picture': 'http://placehold.it/32x32', 'age': 35, 'eyeColor': 'green', 'name': 'Avery Flynn', 'gender': 'male', 'company': 'TERSANKI', 'email': 'averyflynn@tersanki.com', 'phone': '+1 (966) 404-2471', 'address': '569 Oakland Place, Beyerville, Puerto Rico, 2395', 'about': 'Minim consequat anim ad et tempor et pariatur cillum ut. Ea Lorem consectetur sunt aliquip ea minim minim id dolore incididunt qui magna. Magna velit labore dolore voluptate ut aliquip esse qui est ipsum cupidatat duis enim. Sunt esse eiusmod cupidatat duis quis sunt anim dolore adipisicing enim dolore aliqua mollit. Commodo sit ad eiusmod reprehenderit.\\r\\n', 'registered': '2014-04-13T10:25:03 +05:00', 'latitude': -89.879409, 'longitude': 143.441709, 'tags': ['quis', 'esse', 'Lorem', 'minim', 'nostrud', 'voluptate', 'laborum'], 'friends': [{'id': 0, 'name': 'Ball Henson'}, {'id': 1, 'name': 'Dalton Mccoy'}, {'id': 2, 'name': 'Carolina Sharp'}], 'greeting': 'Hello, Avery Flynn! You have 13 unread messages.', 'favoriteFruit': 'banana'}, {'_id': '54e23c3eb112d96e4204914d', 'index': 7, 'guid': '95f1c020-f9eb-4a29-b236-e766759d89d0', 'isActive': False, 'balance': '$2,930.31', 'picture': 'http://placehold.it/32x32', 'age': 23, 'eyeColor': 'blue', 'name': 'Michael Cash', 'gender': 'male', 'company': 'ORBIXTAR', 'email': 'michaelcash@orbixtar.com', 'phone': '+1 (996) 439-3660', 'address': '808 Duryea Court, Downsville, Northern Mariana Islands, 2154', 'about': 'Minim proident minim consectetur nostrud dolor reprehenderit. Ea est proident non do cillum eu est dolor Lorem id. Tempor enim incididunt consequat voluptate nulla ipsum voluptate id. Incididunt enim laboris nostrud in exercitation est culpa nulla velit.\\r\\n', 'registered': '2014-05-24T17:56:54 +05:00', 'latitude': -86.621367, 'longitude': -4.06197, 'tags': ['eu', 'sit', 'dolore', 'culpa', 'Lorem', 'in', 'esse'], 'friends': [{'id': 0, 'name': 'Rodgers Nolan'}, {'id': 1, 'name': 'Jewel Marks'}, {'id': 2, 'name': 'Sue Mejia'}], 'greeting': 'Hello, Michael Cash! You have 17 unread messages.', 'favoriteFruit': 'strawberry'}, {'_id': '54e23c3ef30f14d0e5afddf3', 'index': 8, 'guid': 'bde2d56f-2488-40d0-a7d2-21019ee8a18b', 'isActive': False, 'balance': '$1,944.15', 'picture': 'http://placehold.it/32x32', 'age': 25, 'eyeColor': 'green', 'name': 'Madeleine Bray', 'gender': 'female', 'company': 'KIDSTOCK', 'email': 'madeleinebray@kidstock.com', 'phone': '+1 (820) 541-2969', 'address': '684 Stratford Road, Rosine, District Of Columbia, 7177', 'about': 'Ullamco ea esse ullamco commodo quis amet ut ad. Sint eiusmod ullamco minim nostrud amet in ex adipisicing velit cillum Lorem enim nostrud. Deserunt esse incididunt eiusmod commodo ullamco id pariatur tempor duis laboris Lorem. Laboris magna Lorem quis laborum ullamco. Dolor minim magna ut occaecat in consequat consequat in commodo pariatur voluptate pariatur dolore. Quis exercitation cillum labore cillum laborum. Dolore est reprehenderit anim reprehenderit consectetur sit quis ea ut veniam.\\r\\n', 'registered': '2014-08-11T08:54:06 +05:00', 'latitude': 45.118798, 'longitude': -7.698707, 'tags': ['id', 'magna', 'excepteur', 'excepteur', 'excepteur', 'duis', 'excepteur'], 'friends': [{'id': 0, 'name': 'Herrera Doyle'}, {'id': 1, 'name': 'Berger Fisher'}, {'id': 2, 'name': 'Chang Coffey'}], 'greeting': 'Hello, Madeleine Bray! You have 2 unread messages.', 'favoriteFruit': 'strawberry'}, {'_id': '54e23c3ebd80e9c26b057fa3', 'index': 9, 'guid': '75991ca5-05ed-499e-bbb5-f057f86d05d7', 'isActive': True, 'balance': '$2,839.22', 'picture': 'http://placehold.it/32x32', 'age': 37, 'eyeColor': 'blue', 'name': 'Corine French', 'gender': 'female', 'company': 'INTRAWEAR', 'email': 'corinefrench@intrawear.com', 'phone': '+1 (987) 573-3164', 'address': '964 Clara Street, Snyderville, Oklahoma, 3627', 'about': 'Sint cillum laborum labore duis fugiat voluptate adipisicing. Ad culpa et et ea incididunt nulla excepteur officia. Cillum veniam amet ipsum reprehenderit do eiusmod aliqua aute nisi Lorem consectetur esse in incididunt.\\r\\n', 'registered': '2014-06-25T20:17:13 +05:00', 'latitude': -37.637422, 'longitude': 154.195523, 'tags': ['laboris', 'in', 'dolore', 'mollit', 'velit', 'laboris', 'excepteur'], 'friends': [{'id': 0, 'name': 'Greta Hill'}, {'id': 1, 'name': 'Cline Curry'}, {'id': 2, 'name': 'Branch Sawyer'}], 'greeting': 'Hello, Corine French! You have 18 unread messages.', 'favoriteFruit': 'banana'}, {'_id': '54e23c3e6d89c09f5507e7dd', 'index': 10, 'guid': '87cffc18-3acf-40c5-8708-1bb93f1b68de', 'isActive': True, 'balance': '$2,467.31', 'picture': 'http://placehold.it/32x32', 'age': 29, 'eyeColor': 'blue', 'name': 'Trudy Cummings', 'gender': 'female', 'company': 'SPLINX', 'email': 'trudycummings@splinx.com', 'phone': '+1 (925) 403-2797', 'address': '558 Charles Place, Tedrow, California, 9832', 'about': 'Non id adipisicing deserunt non magna ex adipisicing sint esse sint. Laborum ea nostrud Lorem voluptate quis proident eu nisi exercitation in. Consequat occaecat proident officia anim.\\r\\n', 'registered': '2014-03-13T17:54:31 +05:00', 'latitude': -36.185131, 'longitude': -37.774906, 'tags': ['aute', 'occaecat', 'ea', 'pariatur', 'consectetur', 'magna', 'ea'], 'friends': [{'id': 0, 'name': 'Amber Gates'}, {'id': 1, 'name': 'Barron Walsh'}, {'id': 2, 'name': 'Nell Bolton'}], 'greeting': 'Hello, Trudy Cummings! You have 2 unread messages.', 'favoriteFruit': 'strawberry'}, {'_id': '54e23c3e4192cf53edd67c99', 'index': 11, 'guid': '5a5496f1-a027-4c21-85da-c399234cd9a5', 'isActive': True, 'balance': '$3,304.99', 'picture': 'http://placehold.it/32x32', 'age': 21, 'eyeColor': 'brown', 'name': 'Peggy Mayer', 'gender': 'female', 'company': 'ACCUPRINT', 'email': 'peggymayer@accuprint.com', 'phone': '+1 (854) 428-2585', 'address': '830 Willmohr Street, Crenshaw, Missouri, 6032', 'about': 'Aliqua sit enim cillum aliquip ad proident excepteur in consectetur eiusmod. Ipsum sint cillum veniam eiusmod aute sunt et do est tempor. Lorem elit dolor dolore incididunt cillum. Enim occaecat minim sunt cillum est velit cillum deserunt tempor eu.\\r\\n', 'registered': '2014-09-14T07:06:49 +05:00', 'latitude': 48.323912, 'longitude': 22.184821, 'tags': ['commodo', 'esse', 'ad', 'ullamco', 'ea', 'sint', 'ipsum'], 'friends': [{'id': 0, 'name': 'Hopkins Mccall'}, {'id': 1, 'name': 'Nielsen Weeks'}, {'id': 2, 'name': 'Dale Knowles'}], 'greeting': 'Hello, Peggy Mayer! You have 13 unread messages.', 'favoriteFruit': 'strawberry'}, {'_id': '54e23c3eedcc65f0ec3a5496', 'index': 12, 'guid': '759a21c4-5f9c-4189-9c50-c9d8a9f31037', 'isActive': False, 'balance': '$3,844.42', 'picture': 'http://placehold.it/32x32', 'age': 40, 'eyeColor': 'brown', 'name': 'Chan Hurley', 'gender': 'male', 'company': 'ZEAM', 'email': 'chanhurley@zeam.com', 'phone': '+1 (917) 475-3705', 'address': '915 Channel Avenue, Clinton, North Dakota, 6244', 'about': 'Voluptate exercitation ut anim ex adipisicing ut do officia incididunt fugiat cupidatat aliqua. Cillum ullamco irure dolore est consectetur non consequat. Nulla ullamco eu irure qui dolor magna ipsum id in enim voluptate aute. Officia aliqua dolore ut reprehenderit Lorem cillum. Cillum reprehenderit eu cillum aliqua sint eiusmod cupidatat culpa elit in. Fugiat voluptate reprehenderit amet anim qui nisi velit aliqua proident anim.\\r\\n', 'registered': '2014-03-01T14:51:23 +06:00', 'latitude': 85.901051, 'longitude': -74.986179, 'tags': ['minim', 'veniam', 'sit', 'aute', 'irure', 'non', 'eiusmod'], 'friends': [{'id': 0, 'name': 'Reese Grant'}, {'id': 1, 'name': 'Jenna Kinney'}, {'id': 2, 'name': 'Rhea May'}], 'greeting': 'Hello, Chan Hurley! You have 7 unread messages.', 'favoriteFruit': 'apple'}, {'_id': '54e23c3eb813e66c6d33aa82', 'index': 13, 'guid': '6fd14a8e-3158-48eb-a7e1-93fe57b74746', 'isActive': True, 'balance': '$3,594.99', 'picture': 'http://placehold.it/32x32', 'age': 40, 'eyeColor': 'blue', 'name': 'Diaz Pena', 'gender': 'male', 'company': 'SUREPLEX', 'email': 'diazpena@sureplex.com', 'phone': '+1 (986) 511-3050', 'address': '184 Kingsway Place, Grantville, Michigan, 2421', 'about': 'Enim elit amet officia consectetur do Lorem reprehenderit cupidatat exercitation velit. Ex tempor esse consectetur dolore aute et. Cupidatat duis nulla in incididunt nulla ullamco non magna officia commodo anim. Labore quis ullamco est deserunt excepteur duis nostrud deserunt cillum proident. Non eiusmod consectetur pariatur deserunt irure quis exercitation ex incididunt quis dolore pariatur sunt irure. Eu do fugiat laboris tempor culpa.\\r\\n', 'registered': '2014-04-19T20:43:12 +05:00', 'latitude': 6.606991, 'longitude': 81.593748, 'tags': ['excepteur', 'elit', 'ullamco', 'excepteur', 'ad', 'quis', 'dolore'], 'friends': [{'id': 0, 'name': 'Mcmillan Knox'}, {'id': 1, 'name': 'Flossie Dixon'}, {'id': 2, 'name': 'Sears Carson'}], 'greeting': 'Hello, Diaz Pena! You have 13 unread messages.', 'favoriteFruit': 'strawberry'}, {'_id': '54e23c3e502a2f526b689c3e', 'index': 14, 'guid': '459cc82d-7878-42cb-b9c6-073506380036', 'isActive': True, 'balance': '$2,940.24', 'picture': 'http://placehold.it/32x32', 'age': 40, 'eyeColor': 'brown', 'name': 'Heath Castaneda', 'gender': 'male', 'company': 'NETPLODE', 'email': 'heathcastaneda@netplode.com', 'phone': '+1 (944) 478-3741', 'address': '278 Village Road, Sunnyside, Massachusetts, 7496', 'about': 'Consectetur mollit cupidatat ex consectetur eiusmod ut. Cupidatat anim cupidatat cupidatat minim ipsum et quis amet proident pariatur. Do consectetur fugiat quis nisi non. Ut eu consequat consequat in ullamco eiusmod quis cillum sunt dolore anim. Non irure aliqua aliqua enim elit labore consequat.\\r\\n', 'registered': '2014-07-30T21:38:43 +05:00', 'latitude': 69.928876, 'longitude': 33.649878, 'tags': ['elit', 'commodo', 'ut', 'ullamco', 'ullamco', 'velit', 'ullamco'], 'friends': [{'id': 0, 'name': 'Dora Mack'}, {'id': 1, 'name': 'Christensen Camacho'}, {'id': 2, 'name': 'Castro Kelly'}], 'greeting': 'Hello, Heath Castaneda! You have 12 unread messages.', 'favoriteFruit': 'strawberry'}, {'_id': '54e23c3e69d22e49c7fe62de', 'index': 15, 'guid': '33d2bbe5-d6f7-4844-88fc-b9f6af63b373', 'isActive': False, 'balance': '$3,062.41', 'picture': 'http://placehold.it/32x32', 'age': 38, 'eyeColor': 'brown', 'name': 'Greer Blankenship', 'gender': 'male', 'company': 'QUALITERN', 'email': 'greerblankenship@qualitern.com', 'phone': '+1 (957) 482-3874', 'address': '557 Ingraham Street, Brambleton, South Dakota, 8482', 'about': 'Non in excepteur nostrud consectetur. Qui non consectetur officia incididunt elit laboris exercitation exercitation est minim veniam ullamco dolore. Eu sit aute culpa ex sunt amet. Ut et amet Lorem sunt anim pariatur.\\r\\n', 'registered': '2014-03-30T21:39:41 +05:00', 'latitude': -71.093388, 'longitude': 65.740255, 'tags': ['enim', 'eiusmod', 'Lorem', 'reprehenderit', 'nisi', 'anim', 'sunt'], 'friends': [{'id': 0, 'name': 'Woods Norman'}, {'id': 1, 'name': 'Marilyn Haney'}, {'id': 2, 'name': 'Webster Nielsen'}], 'greeting': 'Hello, Greer Blankenship! You have 7 unread messages.', 'favoriteFruit': 'banana'}, {'_id': '54e23c3e42676228c442a669', 'index': 16, 'guid': 'e44604f0-c7a8-4b89-bda3-0f4710ebe28a', 'isActive': False, 'balance': '$3,067.82', 'picture': 'http://placehold.it/32x32', 'age': 32, 'eyeColor': 'green', 'name': 'Coffey Hayes', 'gender': 'male', 'company': 'INQUALA', 'email': 'coffeyhayes@inquala.com', 'phone': '+1 (880) 451-3490', 'address': '490 Durland Place, Craig, Tennessee, 5034', 'about': 'Est esse irure Lorem ullamco veniam fugiat laborum veniam excepteur. Ad enim pariatur nostrud excepteur et nostrud velit dolore ex enim cillum in aliquip fugiat. Nulla laborum exercitation irure magna elit laborum magna ad excepteur. Cillum pariatur Lorem eiusmod ad dolore eiusmod veniam do minim laborum in dolor. Reprehenderit elit ad id voluptate Lorem Lorem dolor cupidatat excepteur. Proident minim ea aute nulla.\\r\\n', 'registered': '2014-04-01T23:04:39 +05:00', 'latitude': -30.662644, 'longitude': 59.806684, 'tags': ['duis', 'est', 'in', 'officia', 'nostrud', 'occaecat', 'mollit'], 'friends': [{'id': 0, 'name': 'Suarez Perry'}, {'id': 1, 'name': 'Marlene Sheppard'}, {'id': 2, 'name': 'Cohen Yates'}], 'greeting': 'Hello, Coffey Hayes! You have 19 unread messages.', 'favoriteFruit': 'strawberry'}, {'_id': '54e23c3e4ac5969958013235', 'index': 17, 'guid': 'fa7e26df-d239-41e8-9aa9-be5e808b6f89', 'isActive': True, 'balance': '$2,646.76', 'picture': 'http://placehold.it/32x32', 'age': 24, 'eyeColor': 'brown', 'name': 'Leanne Hurst', 'gender': 'female', 'company': 'ACCIDENCY', 'email': 'leannehurst@accidency.com', 'phone': '+1 (820) 420-3317', 'address': '196 Columbus Place, Carbonville, New Jersey, 7513', 'about': 'Dolor occaecat dolore ut tempor. Veniam elit anim duis do pariatur. Qui excepteur nisi eiusmod mollit laboris fugiat commodo ipsum reprehenderit labore cillum. Aliquip laborum commodo nisi cupidatat labore nostrud exercitation adipisicing mollit eu magna proident ex Lorem. Nostrud magna sint sint consequat consectetur et sint.\\r\\n', 'registered': '2014-11-10T01:25:55 +06:00', 'latitude': 16.671695, 'longitude': 139.707959, 'tags': ['culpa', 'deserunt', 'tempor', 'quis', 'reprehenderit', 'incididunt', 'est'], 'friends': [{'id': 0, 'name': 'Farley Frank'}, {'id': 1, 'name': 'Pruitt Frye'}, {'id': 2, 'name': 'Simpson Cardenas'}], 'greeting': 'Hello, Leanne Hurst! You have 5 unread messages.', 'favoriteFruit': 'apple'}, {'_id': '54e23c3ed945981ba2580614', 'index': 18, 'guid': 'e608dc5c-fee4-4086-971b-3ebd37bfa137', 'isActive': True, 'balance': '$2,227.79', 'picture': 'http://placehold.it/32x32', 'age': 22, 'eyeColor': 'brown', 'name': 'Ewing Larson', 'gender': 'male', 'company': 'ESCENTA', 'email': 'ewinglarson@escenta.com', 'phone': '+1 (943) 439-3760', 'address': '136 Beard Street, Wattsville, New Hampshire, 2803', 'about': 'Veniam eiusmod exercitation culpa mollit reprehenderit ullamco voluptate voluptate irure qui duis anim et. Laborum dolor quis do voluptate. In pariatur dolor id mollit et enim. Qui ex qui in cillum irure enim non reprehenderit irure et excepteur aliquip eu eu.\\r\\n', 'registered': '2014-07-21T19:17:41 +05:00', 'latitude': 15.903555, 'longitude': -159.721203, 'tags': ['Lorem', 'magna', 'dolor', 'aliquip', 'reprehenderit', 'eu', 'voluptate'], 'friends': [{'id': 0, 'name': 'Suzette Huffman'}, {'id': 1, 'name': 'Paige Santiago'}, {'id': 2, 'name': 'Dollie Fernandez'}], 'greeting': 'Hello, Ewing Larson! You have 16 unread messages.', 'favoriteFruit': 'strawberry'}]\n"
     ]
    }
   ],
   "source": [
    "import json\n",
    "\n",
    "profiles = json.load(open('profiles.json'))\n",
    "print(profiles)\n"
   ]
  },
  {
   "cell_type": "markdown",
   "id": "9f30cbb4",
   "metadata": {},
   "source": [
    "Your code should produce a list of dictionaries. Using this data, write some code that calculates and outputs the following information:"
   ]
  },
  {
   "cell_type": "markdown",
   "id": "0c5446fe",
   "metadata": {},
   "source": [
    "* Total number of users"
   ]
  },
  {
   "cell_type": "code",
   "execution_count": 11,
   "id": "fc419566",
   "metadata": {},
   "outputs": [
    {
     "data": {
      "text/plain": [
       "19"
      ]
     },
     "execution_count": 11,
     "metadata": {},
     "output_type": "execute_result"
    }
   ],
   "source": [
    "len(profiles)"
   ]
  },
  {
   "cell_type": "markdown",
   "id": "5b223c78",
   "metadata": {},
   "source": [
    "* Number of active users"
   ]
  },
  {
   "cell_type": "code",
   "execution_count": 12,
   "id": "a1a7c4a5",
   "metadata": {},
   "outputs": [
    {
     "name": "stdout",
     "output_type": "stream",
     "text": [
      "9\n"
     ]
    }
   ],
   "source": [
    "\n",
    "count = 0\n",
    "for i in range(len(profiles)):\n",
    "    if profiles[i]['isActive'] == True:\n",
    "        count += 1\n",
    "print(count)\n",
    "    "
   ]
  },
  {
   "cell_type": "code",
   "execution_count": 13,
   "id": "0f9c5c21",
   "metadata": {},
   "outputs": [
    {
     "name": "stdout",
     "output_type": "stream",
     "text": [
      "10\n"
     ]
    }
   ],
   "source": [
    "count = 0\n",
    "for i in range(len(profiles)):\n",
    "    if profiles[i]['isActive'] == False:\n",
    "        count += 1\n",
    "print(count)"
   ]
  },
  {
   "cell_type": "markdown",
   "id": "b020fa39",
   "metadata": {},
   "source": [
    "d. Grand total of balances for all users"
   ]
  },
  {
   "cell_type": "code",
   "execution_count": 14,
   "id": "29d1bdaa",
   "metadata": {},
   "outputs": [
    {
     "name": "stdout",
     "output_type": "stream",
     "text": [
      "['$2,097.02', '$3,654.02', '$1,536.02', '$3,919.64', '$3,681.39', '$1,694.42', '$1,214.10', '$2,930.31', '$1,944.15', '$2,839.22', '$2,467.31', '$3,304.99', '$3,844.42', '$3,594.99', '$2,940.24', '$3,062.41', '$3,067.82', '$2,646.76', '$2,227.79']\n"
     ]
    }
   ],
   "source": [
    "balance = []\n",
    "for i in range(len(profiles)):\n",
    "    balance.append(profiles[i]['balance'])\n",
    "print(balance)"
   ]
  },
  {
   "cell_type": "code",
   "execution_count": 15,
   "id": "2bc0a0c3",
   "metadata": {},
   "outputs": [
    {
     "name": "stdout",
     "output_type": "stream",
     "text": [
      "['2097.02', '3654.02', '1536.02', '3919.64', '3681.39', '1694.42', '1214.10', '2930.31', '1944.15', '2839.22', '2467.31', '3304.99', '3844.42', '3594.99', '2940.24', '3062.41', '3067.82', '2646.76', '2227.79']\n"
     ]
    }
   ],
   "source": [
    "new_balance = []\n",
    "for i in balance :\n",
    "    i = i.replace('$','')\n",
    "    i = i.replace(',','')\n",
    "    new_balance.append(i)\n",
    "    \n",
    "print(new_balance)"
   ]
  },
  {
   "cell_type": "code",
   "execution_count": 16,
   "id": "61e97333",
   "metadata": {},
   "outputs": [
    {
     "name": "stdout",
     "output_type": "stream",
     "text": [
      "[2097.02, 3654.02, 1536.02, 3919.64, 3681.39, 1694.42, 1214.1, 2930.31, 1944.15, 2839.22, 2467.31, 3304.99, 3844.42, 3594.99, 2940.24, 3062.41, 3067.82, 2646.76, 2227.79]\n"
     ]
    }
   ],
   "source": [
    "balance_float =[]\n",
    "for i in new_balance:\n",
    "    i = float(i)\n",
    "    balance_float.append(i)\n",
    "\n",
    "print(balance_float)"
   ]
  },
  {
   "cell_type": "code",
   "execution_count": 17,
   "id": "810a5d57",
   "metadata": {},
   "outputs": [
    {
     "name": "stdout",
     "output_type": "stream",
     "text": [
      "52667.02\n"
     ]
    }
   ],
   "source": [
    "grand_total = sum(balance_float)\n",
    "print(grand_total)"
   ]
  },
  {
   "cell_type": "markdown",
   "id": "9407c976",
   "metadata": {},
   "source": [
    "* Average balance per user"
   ]
  },
  {
   "cell_type": "code",
   "execution_count": 18,
   "id": "62dfeffb",
   "metadata": {},
   "outputs": [
    {
     "name": "stdout",
     "output_type": "stream",
     "text": [
      "2771.9484210526316\n"
     ]
    }
   ],
   "source": [
    "\n",
    "average_balance = sum(balance_float)/len(balance_float)\n",
    "print(average_balance)"
   ]
  },
  {
   "cell_type": "code",
   "execution_count": 19,
   "id": "70d82c24",
   "metadata": {},
   "outputs": [
    {
     "name": "stdout",
     "output_type": "stream",
     "text": [
      "2771.9484210526316\n"
     ]
    }
   ],
   "source": [
    "import statistics\n",
    "average_balance = statistics.mean(balance_float)\n",
    "print(average_balance)"
   ]
  },
  {
   "cell_type": "markdown",
   "id": "42e58876",
   "metadata": {},
   "source": [
    "* User with the lowest balance"
   ]
  },
  {
   "cell_type": "code",
   "execution_count": 20,
   "id": "b6c2c381",
   "metadata": {},
   "outputs": [
    {
     "name": "stdout",
     "output_type": "stream",
     "text": [
      "1214.1\n"
     ]
    }
   ],
   "source": [
    "lowest_balance = min(balance_float)\n",
    "print(lowest_balance)"
   ]
  },
  {
   "cell_type": "code",
   "execution_count": 37,
   "id": "623db75a",
   "metadata": {},
   "outputs": [
    {
     "data": {
      "text/plain": [
       "['54e23c3e0fd8074c2ca52667']"
      ]
     },
     "execution_count": 37,
     "metadata": {},
     "output_type": "execute_result"
    }
   ],
   "source": [
    "lowest_balance_user = [profile['_id'] \n",
    "for profile in profiles \n",
    "    if profile['balance'] == min(balance)]\n",
    "lowest_balance_user"
   ]
  },
  {
   "cell_type": "code",
   "execution_count": 40,
   "id": "820e720c",
   "metadata": {},
   "outputs": [
    {
     "name": "stdout",
     "output_type": "stream",
     "text": [
      "2097.02\n",
      "3654.02\n",
      "1536.02\n",
      "3919.64\n",
      "3681.39\n",
      "1694.42\n",
      "1214.10\n",
      "2930.31\n",
      "1944.15\n",
      "2839.22\n",
      "2467.31\n",
      "3304.99\n",
      "3844.42\n",
      "3594.99\n",
      "2940.24\n",
      "3062.41\n",
      "3067.82\n",
      "2646.76\n",
      "2227.79\n",
      "User: Avery Flynn- has the least amount of cash: $1,214.10\n"
     ]
    }
   ],
   "source": [
    "# my code was 'id which does find the user however Tasha's is more clear at id'ing the person\n",
    "#now, let's find which user that balance belongs to\n",
    "\n",
    "#create an empty list\n",
    "balance_ls = []\n",
    "\n",
    "#iterate through each profile\n",
    "for profile in profiles:\n",
    "    #remove specal characters from the balance\n",
    "    user_balance = profile['balance'].strip('$').replace(',', '')\n",
    "    #print each user's balance\n",
    "    print(user_balance)\n",
    "    #add the next user's balance to the list\n",
    "    balance_ls.append(user_balance)\n",
    "\n",
    "#iterate through each profile\n",
    "for profile in profiles:\n",
    "    #remove special characters and give minumum balance\n",
    "    if profile['balance'].strip('$').replace(',', '') == min(balance_ls):\n",
    "        #print the user name and balance\n",
    "        print(f'User: {profile[\"name\"]}- has the least amount of cash: {profile[\"balance\"]}')"
   ]
  },
  {
   "cell_type": "markdown",
   "id": "ee208239",
   "metadata": {},
   "source": [
    "* User with the highest balance"
   ]
  },
  {
   "cell_type": "code",
   "execution_count": 22,
   "id": "df638c22",
   "metadata": {},
   "outputs": [
    {
     "name": "stdout",
     "output_type": "stream",
     "text": [
      "3919.64\n"
     ]
    }
   ],
   "source": [
    "highest_balance = max(balance_float)\n",
    "print(highest_balance)"
   ]
  },
  {
   "cell_type": "code",
   "execution_count": 33,
   "id": "09a30657",
   "metadata": {},
   "outputs": [
    {
     "name": "stdout",
     "output_type": "stream",
     "text": [
      "User: Ewing Larson- has the highest balance: $2,227.79\n"
     ]
    }
   ],
   "source": [
    "highest_balance_user = [profile['_id'] \n",
    "  for profile in profiles \n",
    "  if profile ['balance'] == max(balance)]\n",
    "print(f'User: {profile[\"name\"]}- has the highest balance: {profile[\"highest_balance_user\"]}')"
   ]
  },
  {
   "cell_type": "markdown",
   "id": "3328a433",
   "metadata": {},
   "source": [
    "* Most common favorite fruit\n"
   ]
  },
  {
   "cell_type": "code",
   "execution_count": 24,
   "id": "4a74e054",
   "metadata": {},
   "outputs": [
    {
     "name": "stdout",
     "output_type": "stream",
     "text": [
      "['strawberry', 'apple', 'apple', 'banana', 'apple', 'apple', 'banana', 'strawberry', 'strawberry', 'banana', 'strawberry', 'strawberry', 'apple', 'strawberry', 'strawberry', 'banana', 'strawberry', 'apple', 'strawberry']\n"
     ]
    }
   ],
   "source": [
    "favorite_fruit = [profile['favoriteFruit'] for profile in profiles]\n",
    "print(favorite_fruit)\n",
    "                  \n"
   ]
  },
  {
   "cell_type": "code",
   "execution_count": 25,
   "id": "f3871a22",
   "metadata": {},
   "outputs": [
    {
     "name": "stdout",
     "output_type": "stream",
     "text": [
      "{'strawberry', 'banana', 'apple'}\n"
     ]
    }
   ],
   "source": [
    "unique_fave_fruit = set(favorite_fruit)\n",
    "print(unique_fave_fruit)"
   ]
  },
  {
   "cell_type": "code",
   "execution_count": 26,
   "id": "d0bef344",
   "metadata": {},
   "outputs": [
    {
     "name": "stdout",
     "output_type": "stream",
     "text": [
      "6 4 9\n"
     ]
    }
   ],
   "source": [
    "a_count = 0\n",
    "b_count = 0\n",
    "s_count = 0\n",
    "\n",
    "for i in favorite_fruit:\n",
    "    if i == 'apple':    \n",
    "        a_count += 1 \n",
    "    elif i == 'banana':    \n",
    "        b_count += 1\n",
    "    elif i == 'strawberry':  \n",
    "        s_count += 1\n",
    "print(a_count, b_count, s_count)\n",
    "\n"
   ]
  },
  {
   "cell_type": "markdown",
   "id": "c8ca8689",
   "metadata": {},
   "source": [
    "* Most common favorite frumit = strawberry\n",
    "* Least common favorite fruit = banana"
   ]
  },
  {
   "cell_type": "markdown",
   "id": "05eced0f",
   "metadata": {},
   "source": [
    "* Total number of unread messages for all users"
   ]
  },
  {
   "cell_type": "code",
   "execution_count": 27,
   "id": "3254f0df",
   "metadata": {},
   "outputs": [
    {
     "name": "stdout",
     "output_type": "stream",
     "text": [
      "['Hello, Hebert Estes! You have 4 unread messages.', 'Hello, Allison Wynn! You have 19 unread messages.', 'Hello, Jacobs Floyd! You have 5 unread messages.', 'Hello, Fay Hammond! You have 10 unread messages.', 'Hello, Chasity Marsh! You have 9 unread messages.', 'Hello, Camacho Cortez! You have 19 unread messages.', 'Hello, Avery Flynn! You have 13 unread messages.', 'Hello, Michael Cash! You have 17 unread messages.', 'Hello, Madeleine Bray! You have 2 unread messages.', 'Hello, Corine French! You have 18 unread messages.', 'Hello, Trudy Cummings! You have 2 unread messages.', 'Hello, Peggy Mayer! You have 13 unread messages.', 'Hello, Chan Hurley! You have 7 unread messages.', 'Hello, Diaz Pena! You have 13 unread messages.', 'Hello, Heath Castaneda! You have 12 unread messages.', 'Hello, Greer Blankenship! You have 7 unread messages.', 'Hello, Coffey Hayes! You have 19 unread messages.', 'Hello, Leanne Hurst! You have 5 unread messages.', 'Hello, Ewing Larson! You have 16 unread messages.']\n"
     ]
    }
   ],
   "source": [
    "unread_messages = []\n",
    "for i in range(len(profiles)):\n",
    "    unread_messages.append(profiles[i]['greeting'])\n",
    "print(unread_messages)"
   ]
  },
  {
   "cell_type": "code",
   "execution_count": 28,
   "id": "0f553b41",
   "metadata": {},
   "outputs": [
    {
     "name": "stdout",
     "output_type": "stream",
     "text": [
      "Hello, Hebert Estes! You have 4 unread messages.\n",
      "Hello, Allison Wynn! You have 19 unread messages.\n",
      "Hello, Jacobs Floyd! You have 5 unread messages.\n",
      "Hello, Fay Hammond! You have 10 unread messages.\n",
      "Hello, Chasity Marsh! You have 9 unread messages.\n",
      "Hello, Camacho Cortez! You have 19 unread messages.\n",
      "Hello, Avery Flynn! You have 13 unread messages.\n",
      "Hello, Michael Cash! You have 17 unread messages.\n",
      "Hello, Madeleine Bray! You have 2 unread messages.\n",
      "Hello, Corine French! You have 18 unread messages.\n",
      "Hello, Trudy Cummings! You have 2 unread messages.\n",
      "Hello, Peggy Mayer! You have 13 unread messages.\n",
      "Hello, Chan Hurley! You have 7 unread messages.\n",
      "Hello, Diaz Pena! You have 13 unread messages.\n",
      "Hello, Heath Castaneda! You have 12 unread messages.\n",
      "Hello, Greer Blankenship! You have 7 unread messages.\n",
      "Hello, Coffey Hayes! You have 19 unread messages.\n",
      "Hello, Leanne Hurst! You have 5 unread messages.\n",
      "Hello, Ewing Larson! You have 16 unread messages.\n"
     ]
    }
   ],
   "source": [
    "#  Tasha's answer is more streamlined\n",
    "#create an empty list\n",
    "greeting_list = []\n",
    "\n",
    "for profile in profiles:\n",
    "    #show/print greeting only\n",
    "    print(profile['greeting'])\n",
    "    #add the next greeting to the list\n",
    "    greeting_list.append(profile['greeting'])"
   ]
  },
  {
   "cell_type": "code",
   "execution_count": 29,
   "id": "6742e286",
   "metadata": {},
   "outputs": [
    {
     "data": {
      "text/plain": [
       "[4, 19, 5, 10, 9, 19, 13, 17, 2, 18, 2, 13, 7, 13, 12, 7, 19, 5, 16]"
      ]
     },
     "execution_count": 29,
     "metadata": {},
     "output_type": "execute_result"
    }
   ],
   "source": [
    "def get_number(message):\n",
    "    value = ''\n",
    "    for char in message:\n",
    "        if char.isdigit() == True:\n",
    "            value = value + char\n",
    "    value = int(value)\n",
    "    return value\n",
    "\n",
    "get_number('Hello, Ewing Larson! You have 16 unread messages.')\n",
    "\n",
    "unread_count = [get_number(profile['greeting']) for profile in profiles]\n",
    "unread_count"
   ]
  },
  {
   "cell_type": "code",
   "execution_count": 30,
   "id": "bba4bfe2",
   "metadata": {},
   "outputs": [
    {
     "name": "stdout",
     "output_type": "stream",
     "text": [
      "[210]\n"
     ]
    }
   ],
   "source": [
    "new_unread_messages = [sum(unread_count)]\n",
    "print (new_unread_messages)"
   ]
  }
 ],
 "metadata": {
  "kernelspec": {
   "display_name": "Python 3 (ipykernel)",
   "language": "python",
   "name": "python3"
  },
  "language_info": {
   "codemirror_mode": {
    "name": "ipython",
    "version": 3
   },
   "file_extension": ".py",
   "mimetype": "text/x-python",
   "name": "python",
   "nbconvert_exporter": "python",
   "pygments_lexer": "ipython3",
   "version": "3.10.9"
  }
 },
 "nbformat": 4,
 "nbformat_minor": 5
}
